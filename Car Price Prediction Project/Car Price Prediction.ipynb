{
 "cells": [
  {
   "cell_type": "code",
   "execution_count": 3,
   "id": "ef0bc553",
   "metadata": {},
   "outputs": [],
   "source": [
    "import numpy as np\n",
    "import pandas as pd \n",
    "import matplotlib.pyplot as plt\n",
    "%matplotlib inline \n",
    "import seaborn as sns\n",
    "import warnings\n",
    "warnings.filterwarnings('ignore')"
   ]
  },
  {
   "cell_type": "markdown",
   "id": "57c95a6b",
   "metadata": {},
   "source": [
    "# Data Preparation\n"
   ]
  },
  {
   "cell_type": "code",
   "execution_count": 232,
   "id": "9233329b",
   "metadata": {},
   "outputs": [],
   "source": [
    "df = pd.read_csv(\"F:\\Machine Learning\\Machine Learning Projects\\Machine Learning Bookcamp\\Car Price Prediction Project\\data\\car_prices.csv\")"
   ]
  },
  {
   "cell_type": "code",
   "execution_count": 233,
   "id": "04dad32d",
   "metadata": {
    "scrolled": true
   },
   "outputs": [
    {
     "data": {
      "text/html": [
       "<div>\n",
       "<style scoped>\n",
       "    .dataframe tbody tr th:only-of-type {\n",
       "        vertical-align: middle;\n",
       "    }\n",
       "\n",
       "    .dataframe tbody tr th {\n",
       "        vertical-align: top;\n",
       "    }\n",
       "\n",
       "    .dataframe thead th {\n",
       "        text-align: right;\n",
       "    }\n",
       "</style>\n",
       "<table border=\"1\" class=\"dataframe\">\n",
       "  <thead>\n",
       "    <tr style=\"text-align: right;\">\n",
       "      <th></th>\n",
       "      <th>Make</th>\n",
       "      <th>Model</th>\n",
       "      <th>Year</th>\n",
       "      <th>Engine Fuel Type</th>\n",
       "      <th>Engine HP</th>\n",
       "      <th>Engine Cylinders</th>\n",
       "      <th>Transmission Type</th>\n",
       "      <th>Driven_Wheels</th>\n",
       "      <th>Number of Doors</th>\n",
       "      <th>Market Category</th>\n",
       "      <th>Vehicle Size</th>\n",
       "      <th>Vehicle Style</th>\n",
       "      <th>highway MPG</th>\n",
       "      <th>city mpg</th>\n",
       "      <th>Popularity</th>\n",
       "      <th>MSRP</th>\n",
       "    </tr>\n",
       "  </thead>\n",
       "  <tbody>\n",
       "    <tr>\n",
       "      <th>0</th>\n",
       "      <td>BMW</td>\n",
       "      <td>1 Series M</td>\n",
       "      <td>2011</td>\n",
       "      <td>premium unleaded (required)</td>\n",
       "      <td>335.0</td>\n",
       "      <td>6.0</td>\n",
       "      <td>MANUAL</td>\n",
       "      <td>rear wheel drive</td>\n",
       "      <td>2.0</td>\n",
       "      <td>Factory Tuner,Luxury,High-Performance</td>\n",
       "      <td>Compact</td>\n",
       "      <td>Coupe</td>\n",
       "      <td>26</td>\n",
       "      <td>19</td>\n",
       "      <td>3916</td>\n",
       "      <td>46135</td>\n",
       "    </tr>\n",
       "    <tr>\n",
       "      <th>1</th>\n",
       "      <td>BMW</td>\n",
       "      <td>1 Series</td>\n",
       "      <td>2011</td>\n",
       "      <td>premium unleaded (required)</td>\n",
       "      <td>300.0</td>\n",
       "      <td>6.0</td>\n",
       "      <td>MANUAL</td>\n",
       "      <td>rear wheel drive</td>\n",
       "      <td>2.0</td>\n",
       "      <td>Luxury,Performance</td>\n",
       "      <td>Compact</td>\n",
       "      <td>Convertible</td>\n",
       "      <td>28</td>\n",
       "      <td>19</td>\n",
       "      <td>3916</td>\n",
       "      <td>40650</td>\n",
       "    </tr>\n",
       "    <tr>\n",
       "      <th>2</th>\n",
       "      <td>BMW</td>\n",
       "      <td>1 Series</td>\n",
       "      <td>2011</td>\n",
       "      <td>premium unleaded (required)</td>\n",
       "      <td>300.0</td>\n",
       "      <td>6.0</td>\n",
       "      <td>MANUAL</td>\n",
       "      <td>rear wheel drive</td>\n",
       "      <td>2.0</td>\n",
       "      <td>Luxury,High-Performance</td>\n",
       "      <td>Compact</td>\n",
       "      <td>Coupe</td>\n",
       "      <td>28</td>\n",
       "      <td>20</td>\n",
       "      <td>3916</td>\n",
       "      <td>36350</td>\n",
       "    </tr>\n",
       "    <tr>\n",
       "      <th>3</th>\n",
       "      <td>BMW</td>\n",
       "      <td>1 Series</td>\n",
       "      <td>2011</td>\n",
       "      <td>premium unleaded (required)</td>\n",
       "      <td>230.0</td>\n",
       "      <td>6.0</td>\n",
       "      <td>MANUAL</td>\n",
       "      <td>rear wheel drive</td>\n",
       "      <td>2.0</td>\n",
       "      <td>Luxury,Performance</td>\n",
       "      <td>Compact</td>\n",
       "      <td>Coupe</td>\n",
       "      <td>28</td>\n",
       "      <td>18</td>\n",
       "      <td>3916</td>\n",
       "      <td>29450</td>\n",
       "    </tr>\n",
       "    <tr>\n",
       "      <th>4</th>\n",
       "      <td>BMW</td>\n",
       "      <td>1 Series</td>\n",
       "      <td>2011</td>\n",
       "      <td>premium unleaded (required)</td>\n",
       "      <td>230.0</td>\n",
       "      <td>6.0</td>\n",
       "      <td>MANUAL</td>\n",
       "      <td>rear wheel drive</td>\n",
       "      <td>2.0</td>\n",
       "      <td>Luxury</td>\n",
       "      <td>Compact</td>\n",
       "      <td>Convertible</td>\n",
       "      <td>28</td>\n",
       "      <td>18</td>\n",
       "      <td>3916</td>\n",
       "      <td>34500</td>\n",
       "    </tr>\n",
       "  </tbody>\n",
       "</table>\n",
       "</div>"
      ],
      "text/plain": [
       "  Make       Model  Year             Engine Fuel Type  Engine HP  \\\n",
       "0  BMW  1 Series M  2011  premium unleaded (required)      335.0   \n",
       "1  BMW    1 Series  2011  premium unleaded (required)      300.0   \n",
       "2  BMW    1 Series  2011  premium unleaded (required)      300.0   \n",
       "3  BMW    1 Series  2011  premium unleaded (required)      230.0   \n",
       "4  BMW    1 Series  2011  premium unleaded (required)      230.0   \n",
       "\n",
       "   Engine Cylinders Transmission Type     Driven_Wheels  Number of Doors  \\\n",
       "0               6.0            MANUAL  rear wheel drive              2.0   \n",
       "1               6.0            MANUAL  rear wheel drive              2.0   \n",
       "2               6.0            MANUAL  rear wheel drive              2.0   \n",
       "3               6.0            MANUAL  rear wheel drive              2.0   \n",
       "4               6.0            MANUAL  rear wheel drive              2.0   \n",
       "\n",
       "                         Market Category Vehicle Size Vehicle Style  \\\n",
       "0  Factory Tuner,Luxury,High-Performance      Compact         Coupe   \n",
       "1                     Luxury,Performance      Compact   Convertible   \n",
       "2                Luxury,High-Performance      Compact         Coupe   \n",
       "3                     Luxury,Performance      Compact         Coupe   \n",
       "4                                 Luxury      Compact   Convertible   \n",
       "\n",
       "   highway MPG  city mpg  Popularity   MSRP  \n",
       "0           26        19        3916  46135  \n",
       "1           28        19        3916  40650  \n",
       "2           28        20        3916  36350  \n",
       "3           28        18        3916  29450  \n",
       "4           28        18        3916  34500  "
      ]
     },
     "execution_count": 233,
     "metadata": {},
     "output_type": "execute_result"
    }
   ],
   "source": [
    "df.head()"
   ]
  },
  {
   "cell_type": "code",
   "execution_count": 234,
   "id": "f3e40c77",
   "metadata": {},
   "outputs": [
    {
     "data": {
      "text/plain": [
       "(11914, 16)"
      ]
     },
     "execution_count": 234,
     "metadata": {},
     "output_type": "execute_result"
    }
   ],
   "source": [
    "df.shape"
   ]
  },
  {
   "cell_type": "code",
   "execution_count": 235,
   "id": "78d2bbcd",
   "metadata": {},
   "outputs": [],
   "source": [
    "# make column names lowercase and have underscores(_) inplace of spaces\n",
    "\n",
    "\n",
    "df.columns = df.columns.str.lower().str.replace(\" \" , \"_\")\n",
    "\n",
    "# columns =[]\n",
    "# for col in df.columns:\n",
    "#     col = col.lower().replace(\" \" , \"_\")\n",
    "#     columns.append(col)\n",
    "# print(columns)\n",
    "\n",
    "# df.columns = columns"
   ]
  },
  {
   "cell_type": "code",
   "execution_count": 236,
   "id": "cb5959ce",
   "metadata": {},
   "outputs": [],
   "source": [
    "#changing all the string values in the object dtype columns into lower case\n",
    "\n",
    "strings = list(df.dtypes[df.dtypes =='object'].index)\n",
    "#print(strings)\n",
    "\n",
    "for col in strings:\n",
    "    df[col]= df[col].str.lower().str.replace(\" \",\"_\")\n",
    "\n",
    "\n",
    "\n",
    "# d  =df.select_dtypes(include='object')\n",
    "\n",
    "# for col in d.columns:\n",
    "#     df[col]= df[col].str.lower().str.replace(\" \",\"_\")"
   ]
  },
  {
   "cell_type": "code",
   "execution_count": 237,
   "id": "7d277946",
   "metadata": {},
   "outputs": [
    {
     "data": {
      "text/plain": [
       "make                  object\n",
       "model                 object\n",
       "year                   int64\n",
       "engine_fuel_type      object\n",
       "engine_hp            float64\n",
       "engine_cylinders     float64\n",
       "transmission_type     object\n",
       "driven_wheels         object\n",
       "number_of_doors      float64\n",
       "market_category       object\n",
       "vehicle_size          object\n",
       "vehicle_style         object\n",
       "highway_mpg            int64\n",
       "city_mpg               int64\n",
       "popularity             int64\n",
       "msrp                   int64\n",
       "dtype: object"
      ]
     },
     "execution_count": 237,
     "metadata": {},
     "output_type": "execute_result"
    }
   ],
   "source": [
    "df.dtypes"
   ]
  },
  {
   "cell_type": "markdown",
   "id": "cd413599",
   "metadata": {},
   "source": [
    "# Exploratory Data Analysis"
   ]
  },
  {
   "cell_type": "code",
   "execution_count": 238,
   "id": "e3c23b1e",
   "metadata": {},
   "outputs": [
    {
     "name": "stdout",
     "output_type": "stream",
     "text": [
      "make\n",
      "Unqiue values in make are: ['bmw' 'audi' 'fiat' 'mercedes-benz' 'chrysler']\n",
      "The number of unique values in make are: 48\n",
      "\n",
      "model\n",
      "Unqiue values in model are: ['1_series_m' '1_series' '100' '124_spider' '190-class']\n",
      "The number of unique values in model are: 914\n",
      "\n",
      "year\n",
      "Unqiue values in year are: [2011 2012 2013 1992 1993]\n",
      "The number of unique values in year are: 28\n",
      "\n",
      "engine_fuel_type\n",
      "Unqiue values in engine_fuel_type are: ['premium_unleaded_(required)' 'regular_unleaded'\n",
      " 'premium_unleaded_(recommended)' 'flex-fuel_(unleaded/e85)' 'diesel']\n",
      "The number of unique values in engine_fuel_type are: 10\n",
      "\n",
      "engine_hp\n",
      "Unqiue values in engine_hp are: [335. 300. 230. 320. 172.]\n",
      "The number of unique values in engine_hp are: 356\n",
      "\n",
      "engine_cylinders\n",
      "Unqiue values in engine_cylinders are: [ 6.  4.  5.  8. 12.]\n",
      "The number of unique values in engine_cylinders are: 9\n",
      "\n",
      "transmission_type\n",
      "Unqiue values in transmission_type are: ['manual' 'automatic' 'automated_manual' 'direct_drive' 'unknown']\n",
      "The number of unique values in transmission_type are: 5\n",
      "\n",
      "driven_wheels\n",
      "Unqiue values in driven_wheels are: ['rear_wheel_drive' 'front_wheel_drive' 'all_wheel_drive'\n",
      " 'four_wheel_drive']\n",
      "The number of unique values in driven_wheels are: 4\n",
      "\n",
      "number_of_doors\n",
      "Unqiue values in number_of_doors are: [ 2.  4.  3. nan]\n",
      "The number of unique values in number_of_doors are: 3\n",
      "\n",
      "market_category\n",
      "Unqiue values in market_category are: ['factory_tuner,luxury,high-performance' 'luxury,performance'\n",
      " 'luxury,high-performance' 'luxury' 'performance']\n",
      "The number of unique values in market_category are: 71\n",
      "\n",
      "vehicle_size\n",
      "Unqiue values in vehicle_size are: ['compact' 'midsize' 'large']\n",
      "The number of unique values in vehicle_size are: 3\n",
      "\n",
      "vehicle_style\n",
      "Unqiue values in vehicle_style are: ['coupe' 'convertible' 'sedan' 'wagon' '4dr_hatchback']\n",
      "The number of unique values in vehicle_style are: 16\n",
      "\n",
      "highway_mpg\n",
      "Unqiue values in highway_mpg are: [26 28 27 25 24]\n",
      "The number of unique values in highway_mpg are: 59\n",
      "\n",
      "city_mpg\n",
      "Unqiue values in city_mpg are: [19 20 18 17 16]\n",
      "The number of unique values in city_mpg are: 69\n",
      "\n",
      "popularity\n",
      "Unqiue values in popularity are: [3916 3105  819  617 1013]\n",
      "The number of unique values in popularity are: 48\n",
      "\n",
      "msrp\n",
      "Unqiue values in msrp are: [46135 40650 36350 29450 34500]\n",
      "The number of unique values in msrp are: 6049\n",
      "\n"
     ]
    }
   ],
   "source": [
    "for col in df.columns:\n",
    "    print(col)\n",
    "    #print(df[col].head())\n",
    "    #print() \n",
    "    print(f\"Unqiue values in {col} are: {df[col].unique()[:5]}\") # printing only the first 5 unique values from the list\n",
    "    print(f\"The number of unique values in {col} are: {df[col].nunique()}\")\n",
    "    print() \n",
    "    "
   ]
  },
  {
   "cell_type": "code",
   "execution_count": 239,
   "id": "8e041d64",
   "metadata": {},
   "outputs": [
    {
     "data": {
      "text/plain": [
       "<AxesSubplot:xlabel='msrp', ylabel='Count'>"
      ]
     },
     "execution_count": 239,
     "metadata": {},
     "output_type": "execute_result"
    },
    {
     "data": {
      "image/png": "[encoded data removed]",
      "text/plain": [
       "<Figure size 432x288 with 1 Axes>"
      ]
     },
     "metadata": {
      "needs_background": "light"
     },
     "output_type": "display_data"
    }
   ],
   "source": [
    "# Distribution of price\n",
    "\n",
    "#sns.distplot(np.log(df['msrp'])) \n",
    "\n",
    "sns.histplot(df.msrp , bins = 50) #This plot is not much helpful as it does not show anything much and 1e6 means 10^6"
   ]
  },
  {
   "cell_type": "code",
   "execution_count": 240,
   "id": "d5f7ae82",
   "metadata": {
    "scrolled": true
   },
   "outputs": [
    {
     "data": {
      "text/plain": [
       "<AxesSubplot:xlabel='msrp', ylabel='Count'>"
      ]
     },
     "execution_count": 240,
     "metadata": {},
     "output_type": "execute_result"
    },
    {
     "data": {
      "image/png": "[encoded data removed]",
      "text/plain": [
       "<Figure size 432x288 with 1 Axes>"
      ]
     },
     "metadata": {
      "needs_background": "light"
     },
     "output_type": "display_data"
    }
   ],
   "source": [
    "sns.histplot(df.msrp[df.msrp<100000], bins = 50)"
   ]
  },
  {
   "cell_type": "code",
   "execution_count": 241,
   "id": "26c2df3f",
   "metadata": {},
   "outputs": [
    {
     "name": "stdout",
     "output_type": "stream",
     "text": [
      "[ 0.          0.69314718  2.39789527  4.61512052  6.90875478 11.51293546]\n"
     ]
    }
   ],
   "source": [
    "# There is a long tail for price column and it confuses the machine learning models much so we need to scale it down \n",
    "# we will take the logarithm scale of the values because it gives smaller values\n",
    "# Below we use np.log1p() function because since the values are closer to zero in the dataset we might get an error\n",
    "# when we take log(0) which is infinity so we will use np.log1p() function from numpy which adds 1 to all the values \n",
    "print(np.log1p([0,1,10,100,1000,100000]))\n"
   ]
  },
  {
   "cell_type": "code",
   "execution_count": 242,
   "id": "7ceae765",
   "metadata": {},
   "outputs": [
    {
     "name": "stdout",
     "output_type": "stream",
     "text": [
      "[ 0.          0.69314718  2.39789527  4.61512052  6.90875478 11.51293546]\n"
     ]
    }
   ],
   "source": [
    "print(np.log([0+1,1+1,10+1,100+1,1000+1,100000+1])) #so insted of adding manually 1 to all the values we used np.log1p() above"
   ]
  },
  {
   "cell_type": "code",
   "execution_count": 243,
   "id": "2a304f94",
   "metadata": {},
   "outputs": [],
   "source": [
    "price_logs = np.log1p(df.msrp)"
   ]
  },
  {
   "cell_type": "code",
   "execution_count": 244,
   "id": "0d2ef283",
   "metadata": {},
   "outputs": [
    {
     "data": {
      "text/plain": [
       "<AxesSubplot:xlabel='msrp', ylabel='Count'>"
      ]
     },
     "execution_count": 244,
     "metadata": {},
     "output_type": "execute_result"
    },
    {
     "data": {
      "image/png": "[encoded data removed]",
      "text/plain": [
       "<Figure size 432x288 with 1 Axes>"
      ]
     },
     "metadata": {
      "needs_background": "light"
     },
     "output_type": "display_data"
    }
   ],
   "source": [
    "# The plot below shows something similar to the bell curve and the models learn better from data with this shape \n",
    "\n",
    "sns.histplot(price_logs, bins = 50)"
   ]
  },
  {
   "cell_type": "code",
   "execution_count": 245,
   "id": "f0e58e26",
   "metadata": {},
   "outputs": [
    {
     "data": {
      "text/plain": [
       "make                    0\n",
       "model                   0\n",
       "year                    0\n",
       "engine_fuel_type        3\n",
       "engine_hp              69\n",
       "engine_cylinders       30\n",
       "transmission_type       0\n",
       "driven_wheels           0\n",
       "number_of_doors         6\n",
       "market_category      3742\n",
       "vehicle_size            0\n",
       "vehicle_style           0\n",
       "highway_mpg             0\n",
       "city_mpg                0\n",
       "popularity              0\n",
       "msrp                    0\n",
       "dtype: int64"
      ]
     },
     "execution_count": 245,
     "metadata": {},
     "output_type": "execute_result"
    }
   ],
   "source": [
    "#missing values\n",
    "df.isnull().sum()"
   ]
  },
  {
   "cell_type": "markdown",
   "id": "7f5c83af",
   "metadata": {},
   "source": [
    "# Setting Up Validation Framework"
   ]
  },
  {
   "cell_type": "code",
   "execution_count": 246,
   "id": "1c0ce27e",
   "metadata": {},
   "outputs": [],
   "source": [
    "# n_train is used for training the model\n",
    "# n_val is used to find the best model among the set of models \n",
    "# n_test is used only once on the best selected model\n",
    "\n",
    "n = len(df)\n",
    "\n",
    "n_val = int(n*0.2)\n",
    "n_test = int(n*0.2)\n",
    "#here we could use n_train = int(n*0.6) but when we sum n_val,n_test , n_train we get only 11912 rows because of\n",
    "# rounding using the int  instead of actual 11914 rows \n",
    "n_train = n-n_val-n_test\n"
   ]
  },
  {
   "cell_type": "code",
   "execution_count": 247,
   "id": "08e11fc2",
   "metadata": {},
   "outputs": [
    {
     "data": {
      "text/plain": [
       "(11914, 11914)"
      ]
     },
     "execution_count": 247,
     "metadata": {},
     "output_type": "execute_result"
    }
   ],
   "source": [
    "n,n_val+n_test + n_train"
   ]
  },
  {
   "cell_type": "code",
   "execution_count": 248,
   "id": "b456b12d",
   "metadata": {},
   "outputs": [
    {
     "data": {
      "text/plain": [
       "(2382, 2382, 7150)"
      ]
     },
     "execution_count": 248,
     "metadata": {},
     "output_type": "execute_result"
    }
   ],
   "source": [
    "n_val , n_test , n_train"
   ]
  },
  {
   "cell_type": "code",
   "execution_count": 249,
   "id": "22f6cebc",
   "metadata": {},
   "outputs": [
    {
     "data": {
      "text/html": [
       "<div>\n",
       "<style scoped>\n",
       "    .dataframe tbody tr th:only-of-type {\n",
       "        vertical-align: middle;\n",
       "    }\n",
       "\n",
       "    .dataframe tbody tr th {\n",
       "        vertical-align: top;\n",
       "    }\n",
       "\n",
       "    .dataframe thead th {\n",
       "        text-align: right;\n",
       "    }\n",
       "</style>\n",
       "<table border=\"1\" class=\"dataframe\">\n",
       "  <thead>\n",
       "    <tr style=\"text-align: right;\">\n",
       "      <th></th>\n",
       "      <th>make</th>\n",
       "      <th>model</th>\n",
       "      <th>year</th>\n",
       "      <th>engine_fuel_type</th>\n",
       "      <th>engine_hp</th>\n",
       "      <th>engine_cylinders</th>\n",
       "      <th>transmission_type</th>\n",
       "      <th>driven_wheels</th>\n",
       "      <th>number_of_doors</th>\n",
       "      <th>market_category</th>\n",
       "      <th>vehicle_size</th>\n",
       "      <th>vehicle_style</th>\n",
       "      <th>highway_mpg</th>\n",
       "      <th>city_mpg</th>\n",
       "      <th>popularity</th>\n",
       "      <th>msrp</th>\n",
       "    </tr>\n",
       "  </thead>\n",
       "  <tbody>\n",
       "    <tr>\n",
       "      <th>0</th>\n",
       "      <td>bmw</td>\n",
       "      <td>1_series_m</td>\n",
       "      <td>2011</td>\n",
       "      <td>premium_unleaded_(required)</td>\n",
       "      <td>335.0</td>\n",
       "      <td>6.0</td>\n",
       "      <td>manual</td>\n",
       "      <td>rear_wheel_drive</td>\n",
       "      <td>2.0</td>\n",
       "      <td>factory_tuner,luxury,high-performance</td>\n",
       "      <td>compact</td>\n",
       "      <td>coupe</td>\n",
       "      <td>26</td>\n",
       "      <td>19</td>\n",
       "      <td>3916</td>\n",
       "      <td>46135</td>\n",
       "    </tr>\n",
       "    <tr>\n",
       "      <th>1</th>\n",
       "      <td>bmw</td>\n",
       "      <td>1_series</td>\n",
       "      <td>2011</td>\n",
       "      <td>premium_unleaded_(required)</td>\n",
       "      <td>300.0</td>\n",
       "      <td>6.0</td>\n",
       "      <td>manual</td>\n",
       "      <td>rear_wheel_drive</td>\n",
       "      <td>2.0</td>\n",
       "      <td>luxury,performance</td>\n",
       "      <td>compact</td>\n",
       "      <td>convertible</td>\n",
       "      <td>28</td>\n",
       "      <td>19</td>\n",
       "      <td>3916</td>\n",
       "      <td>40650</td>\n",
       "    </tr>\n",
       "    <tr>\n",
       "      <th>2</th>\n",
       "      <td>bmw</td>\n",
       "      <td>1_series</td>\n",
       "      <td>2011</td>\n",
       "      <td>premium_unleaded_(required)</td>\n",
       "      <td>300.0</td>\n",
       "      <td>6.0</td>\n",
       "      <td>manual</td>\n",
       "      <td>rear_wheel_drive</td>\n",
       "      <td>2.0</td>\n",
       "      <td>luxury,high-performance</td>\n",
       "      <td>compact</td>\n",
       "      <td>coupe</td>\n",
       "      <td>28</td>\n",
       "      <td>20</td>\n",
       "      <td>3916</td>\n",
       "      <td>36350</td>\n",
       "    </tr>\n",
       "    <tr>\n",
       "      <th>3</th>\n",
       "      <td>bmw</td>\n",
       "      <td>1_series</td>\n",
       "      <td>2011</td>\n",
       "      <td>premium_unleaded_(required)</td>\n",
       "      <td>230.0</td>\n",
       "      <td>6.0</td>\n",
       "      <td>manual</td>\n",
       "      <td>rear_wheel_drive</td>\n",
       "      <td>2.0</td>\n",
       "      <td>luxury,performance</td>\n",
       "      <td>compact</td>\n",
       "      <td>coupe</td>\n",
       "      <td>28</td>\n",
       "      <td>18</td>\n",
       "      <td>3916</td>\n",
       "      <td>29450</td>\n",
       "    </tr>\n",
       "    <tr>\n",
       "      <th>4</th>\n",
       "      <td>bmw</td>\n",
       "      <td>1_series</td>\n",
       "      <td>2011</td>\n",
       "      <td>premium_unleaded_(required)</td>\n",
       "      <td>230.0</td>\n",
       "      <td>6.0</td>\n",
       "      <td>manual</td>\n",
       "      <td>rear_wheel_drive</td>\n",
       "      <td>2.0</td>\n",
       "      <td>luxury</td>\n",
       "      <td>compact</td>\n",
       "      <td>convertible</td>\n",
       "      <td>28</td>\n",
       "      <td>18</td>\n",
       "      <td>3916</td>\n",
       "      <td>34500</td>\n",
       "    </tr>\n",
       "  </tbody>\n",
       "</table>\n",
       "</div>"
      ],
      "text/plain": [
       "  make       model  year             engine_fuel_type  engine_hp  \\\n",
       "0  bmw  1_series_m  2011  premium_unleaded_(required)      335.0   \n",
       "1  bmw    1_series  2011  premium_unleaded_(required)      300.0   \n",
       "2  bmw    1_series  2011  premium_unleaded_(required)      300.0   \n",
       "3  bmw    1_series  2011  premium_unleaded_(required)      230.0   \n",
       "4  bmw    1_series  2011  premium_unleaded_(required)      230.0   \n",
       "\n",
       "   engine_cylinders transmission_type     driven_wheels  number_of_doors  \\\n",
       "0               6.0            manual  rear_wheel_drive              2.0   \n",
       "1               6.0            manual  rear_wheel_drive              2.0   \n",
       "2               6.0            manual  rear_wheel_drive              2.0   \n",
       "3               6.0            manual  rear_wheel_drive              2.0   \n",
       "4               6.0            manual  rear_wheel_drive              2.0   \n",
       "\n",
       "                         market_category vehicle_size vehicle_style  \\\n",
       "0  factory_tuner,luxury,high-performance      compact         coupe   \n",
       "1                     luxury,performance      compact   convertible   \n",
       "2                luxury,high-performance      compact         coupe   \n",
       "3                     luxury,performance      compact         coupe   \n",
       "4                                 luxury      compact   convertible   \n",
       "\n",
       "   highway_mpg  city_mpg  popularity   msrp  \n",
       "0           26        19        3916  46135  \n",
       "1           28        19        3916  40650  \n",
       "2           28        20        3916  36350  \n",
       "3           28        18        3916  29450  \n",
       "4           28        18        3916  34500  "
      ]
     },
     "execution_count": 249,
     "metadata": {},
     "output_type": "execute_result"
    }
   ],
   "source": [
    "df.head()"
   ]
  },
  {
   "cell_type": "code",
   "execution_count": 250,
   "id": "7bde5a2f",
   "metadata": {},
   "outputs": [
    {
     "data": {
      "text/html": [
       "<div>\n",
       "<style scoped>\n",
       "    .dataframe tbody tr th:only-of-type {\n",
       "        vertical-align: middle;\n",
       "    }\n",
       "\n",
       "    .dataframe tbody tr th {\n",
       "        vertical-align: top;\n",
       "    }\n",
       "\n",
       "    .dataframe thead th {\n",
       "        text-align: right;\n",
       "    }\n",
       "</style>\n",
       "<table border=\"1\" class=\"dataframe\">\n",
       "  <thead>\n",
       "    <tr style=\"text-align: right;\">\n",
       "      <th></th>\n",
       "      <th>model</th>\n",
       "      <th>year</th>\n",
       "    </tr>\n",
       "  </thead>\n",
       "  <tbody>\n",
       "    <tr>\n",
       "      <th>0</th>\n",
       "      <td>1_series_m</td>\n",
       "      <td>2011</td>\n",
       "    </tr>\n",
       "    <tr>\n",
       "      <th>1</th>\n",
       "      <td>1_series</td>\n",
       "      <td>2011</td>\n",
       "    </tr>\n",
       "    <tr>\n",
       "      <th>4</th>\n",
       "      <td>1_series</td>\n",
       "      <td>2011</td>\n",
       "    </tr>\n",
       "    <tr>\n",
       "      <th>5</th>\n",
       "      <td>1_series</td>\n",
       "      <td>2012</td>\n",
       "    </tr>\n",
       "  </tbody>\n",
       "</table>\n",
       "</div>"
      ],
      "text/plain": [
       "        model  year\n",
       "0  1_series_m  2011\n",
       "1    1_series  2011\n",
       "4    1_series  2011\n",
       "5    1_series  2012"
      ]
     },
     "execution_count": 250,
     "metadata": {},
     "output_type": "execute_result"
    }
   ],
   "source": [
    "# iloc is used for index based filtering df.iloc[[1,2,3,], [0,1,4]] -> 1,2,3 rows and make,year , engine_fuel_type columns \n",
    "df.iloc[[0,1,4,5], [1,2]]\n",
    "#loc is used for label based indexing df.loc[[0,3,4],['make', 'year']] -> 0,3,4 rows and make , year columns "
   ]
  },
  {
   "cell_type": "code",
   "execution_count": 251,
   "id": "53109246",
   "metadata": {},
   "outputs": [
    {
     "data": {
      "text/html": [
       "<div>\n",
       "<style scoped>\n",
       "    .dataframe tbody tr th:only-of-type {\n",
       "        vertical-align: middle;\n",
       "    }\n",
       "\n",
       "    .dataframe tbody tr th {\n",
       "        vertical-align: top;\n",
       "    }\n",
       "\n",
       "    .dataframe thead th {\n",
       "        text-align: right;\n",
       "    }\n",
       "</style>\n",
       "<table border=\"1\" class=\"dataframe\">\n",
       "  <thead>\n",
       "    <tr style=\"text-align: right;\">\n",
       "      <th></th>\n",
       "      <th>make</th>\n",
       "      <th>year</th>\n",
       "      <th>model</th>\n",
       "    </tr>\n",
       "  </thead>\n",
       "  <tbody>\n",
       "    <tr>\n",
       "      <th>0</th>\n",
       "      <td>bmw</td>\n",
       "      <td>2011</td>\n",
       "      <td>1_series_m</td>\n",
       "    </tr>\n",
       "    <tr>\n",
       "      <th>3</th>\n",
       "      <td>bmw</td>\n",
       "      <td>2011</td>\n",
       "      <td>1_series</td>\n",
       "    </tr>\n",
       "    <tr>\n",
       "      <th>4</th>\n",
       "      <td>bmw</td>\n",
       "      <td>2011</td>\n",
       "      <td>1_series</td>\n",
       "    </tr>\n",
       "  </tbody>\n",
       "</table>\n",
       "</div>"
      ],
      "text/plain": [
       "  make  year       model\n",
       "0  bmw  2011  1_series_m\n",
       "3  bmw  2011    1_series\n",
       "4  bmw  2011    1_series"
      ]
     },
     "execution_count": 251,
     "metadata": {},
     "output_type": "execute_result"
    }
   ],
   "source": [
    "df.loc[[0,3,4],['make', 'year','model']]"
   ]
  },
  {
   "cell_type": "code",
   "execution_count": 252,
   "id": "440f0645",
   "metadata": {},
   "outputs": [],
   "source": [
    "#shuffling the data here because we will select the data continuosly and we don't want specific type of cars to be\n",
    "# fallen in only validation , test , train set by using shuffling we randomly index the rows \n",
    "# which mean we will find only the bmw cars in df_val if we don't shuffle because BMW cars are first rows in the dataset \n",
    "data = df.sample(frac=1)"
   ]
  },
  {
   "cell_type": "code",
   "execution_count": 253,
   "id": "447a0af9",
   "metadata": {},
   "outputs": [
    {
     "data": {
      "text/html": [
       "<div>\n",
       "<style scoped>\n",
       "    .dataframe tbody tr th:only-of-type {\n",
       "        vertical-align: middle;\n",
       "    }\n",
       "\n",
       "    .dataframe tbody tr th {\n",
       "        vertical-align: top;\n",
       "    }\n",
       "\n",
       "    .dataframe thead th {\n",
       "        text-align: right;\n",
       "    }\n",
       "</style>\n",
       "<table border=\"1\" class=\"dataframe\">\n",
       "  <thead>\n",
       "    <tr style=\"text-align: right;\">\n",
       "      <th></th>\n",
       "      <th>make</th>\n",
       "      <th>model</th>\n",
       "      <th>year</th>\n",
       "      <th>engine_fuel_type</th>\n",
       "      <th>engine_hp</th>\n",
       "      <th>engine_cylinders</th>\n",
       "      <th>transmission_type</th>\n",
       "      <th>driven_wheels</th>\n",
       "      <th>number_of_doors</th>\n",
       "      <th>market_category</th>\n",
       "      <th>vehicle_size</th>\n",
       "      <th>vehicle_style</th>\n",
       "      <th>highway_mpg</th>\n",
       "      <th>city_mpg</th>\n",
       "      <th>popularity</th>\n",
       "      <th>msrp</th>\n",
       "    </tr>\n",
       "  </thead>\n",
       "  <tbody>\n",
       "    <tr>\n",
       "      <th>4161</th>\n",
       "      <td>cadillac</td>\n",
       "      <td>escalade</td>\n",
       "      <td>2015</td>\n",
       "      <td>flex-fuel_(unleaded/e85)</td>\n",
       "      <td>420.0</td>\n",
       "      <td>8.0</td>\n",
       "      <td>automatic</td>\n",
       "      <td>four_wheel_drive</td>\n",
       "      <td>4.0</td>\n",
       "      <td>flex_fuel,luxury,performance</td>\n",
       "      <td>large</td>\n",
       "      <td>4dr_suv</td>\n",
       "      <td>21</td>\n",
       "      <td>15</td>\n",
       "      <td>1624</td>\n",
       "      <td>79570</td>\n",
       "    </tr>\n",
       "    <tr>\n",
       "      <th>1893</th>\n",
       "      <td>volkswagen</td>\n",
       "      <td>beetle</td>\n",
       "      <td>2015</td>\n",
       "      <td>premium_unleaded_(recommended)</td>\n",
       "      <td>210.0</td>\n",
       "      <td>4.0</td>\n",
       "      <td>manual</td>\n",
       "      <td>front_wheel_drive</td>\n",
       "      <td>2.0</td>\n",
       "      <td>hatchback,performance</td>\n",
       "      <td>compact</td>\n",
       "      <td>2dr_hatchback</td>\n",
       "      <td>31</td>\n",
       "      <td>23</td>\n",
       "      <td>873</td>\n",
       "      <td>28115</td>\n",
       "    </tr>\n",
       "    <tr>\n",
       "      <th>11171</th>\n",
       "      <td>aston_martin</td>\n",
       "      <td>v8_vantage</td>\n",
       "      <td>2016</td>\n",
       "      <td>premium_unleaded_(required)</td>\n",
       "      <td>430.0</td>\n",
       "      <td>8.0</td>\n",
       "      <td>automated_manual</td>\n",
       "      <td>rear_wheel_drive</td>\n",
       "      <td>2.0</td>\n",
       "      <td>exotic,high-performance</td>\n",
       "      <td>compact</td>\n",
       "      <td>convertible</td>\n",
       "      <td>21</td>\n",
       "      <td>14</td>\n",
       "      <td>259</td>\n",
       "      <td>141495</td>\n",
       "    </tr>\n",
       "    <tr>\n",
       "      <th>8691</th>\n",
       "      <td>lexus</td>\n",
       "      <td>rx_450h</td>\n",
       "      <td>2016</td>\n",
       "      <td>premium_unleaded_(recommended)</td>\n",
       "      <td>308.0</td>\n",
       "      <td>6.0</td>\n",
       "      <td>automatic</td>\n",
       "      <td>all_wheel_drive</td>\n",
       "      <td>4.0</td>\n",
       "      <td>crossover,luxury,hybrid</td>\n",
       "      <td>midsize</td>\n",
       "      <td>4dr_suv</td>\n",
       "      <td>28</td>\n",
       "      <td>30</td>\n",
       "      <td>454</td>\n",
       "      <td>53635</td>\n",
       "    </tr>\n",
       "    <tr>\n",
       "      <th>651</th>\n",
       "      <td>bmw</td>\n",
       "      <td>6_series</td>\n",
       "      <td>2015</td>\n",
       "      <td>premium_unleaded_(required)</td>\n",
       "      <td>315.0</td>\n",
       "      <td>6.0</td>\n",
       "      <td>automatic</td>\n",
       "      <td>rear_wheel_drive</td>\n",
       "      <td>2.0</td>\n",
       "      <td>luxury,performance</td>\n",
       "      <td>midsize</td>\n",
       "      <td>convertible</td>\n",
       "      <td>31</td>\n",
       "      <td>20</td>\n",
       "      <td>3916</td>\n",
       "      <td>83600</td>\n",
       "    </tr>\n",
       "  </tbody>\n",
       "</table>\n",
       "</div>"
      ],
      "text/plain": [
       "               make       model  year                engine_fuel_type  \\\n",
       "4161       cadillac    escalade  2015        flex-fuel_(unleaded/e85)   \n",
       "1893     volkswagen      beetle  2015  premium_unleaded_(recommended)   \n",
       "11171  aston_martin  v8_vantage  2016     premium_unleaded_(required)   \n",
       "8691          lexus     rx_450h  2016  premium_unleaded_(recommended)   \n",
       "651             bmw    6_series  2015     premium_unleaded_(required)   \n",
       "\n",
       "       engine_hp  engine_cylinders transmission_type      driven_wheels  \\\n",
       "4161       420.0               8.0         automatic   four_wheel_drive   \n",
       "1893       210.0               4.0            manual  front_wheel_drive   \n",
       "11171      430.0               8.0  automated_manual   rear_wheel_drive   \n",
       "8691       308.0               6.0         automatic    all_wheel_drive   \n",
       "651        315.0               6.0         automatic   rear_wheel_drive   \n",
       "\n",
       "       number_of_doors               market_category vehicle_size  \\\n",
       "4161               4.0  flex_fuel,luxury,performance        large   \n",
       "1893               2.0         hatchback,performance      compact   \n",
       "11171              2.0       exotic,high-performance      compact   \n",
       "8691               4.0       crossover,luxury,hybrid      midsize   \n",
       "651                2.0            luxury,performance      midsize   \n",
       "\n",
       "       vehicle_style  highway_mpg  city_mpg  popularity    msrp  \n",
       "4161         4dr_suv           21        15        1624   79570  \n",
       "1893   2dr_hatchback           31        23         873   28115  \n",
       "11171    convertible           21        14         259  141495  \n",
       "8691         4dr_suv           28        30         454   53635  \n",
       "651      convertible           31        20        3916   83600  "
      ]
     },
     "execution_count": 253,
     "metadata": {},
     "output_type": "execute_result"
    }
   ],
   "source": [
    "data.head()"
   ]
  },
  {
   "cell_type": "code",
   "execution_count": 254,
   "id": "1ff5d63f",
   "metadata": {},
   "outputs": [],
   "source": [
    "df_train = data.iloc[:n_train]\n",
    "df_val = data.iloc[n_train:n_train + n_val]\n",
    "df_test = data.iloc[n_train +n_val:]"
   ]
  },
  {
   "cell_type": "markdown",
   "id": "93ca9c49",
   "metadata": {},
   "source": [
    "\n",
    "#### other method for shuffling and selecting the data \n",
    "\n",
    "`idx = np.arange(n)` #this creates the list with n (11914) values in it \n",
    "\n",
    "`np.random.seed(42)`\n",
    "\n",
    "`np.random.shuffle(idx)` # this one shuffles the list randomly\n",
    "\n",
    "`df_train = df.iloc[idx[:n_train]]` # this one selects the values in the list starting from index n_train which is 7150\n",
    "\n",
    "`df_val = df.iloc[idx[n_train:n_train + n_val]]`\n",
    "\n",
    "`df_test = df.iloc[idx[n_train +n_val:]]`\n"
   ]
  },
  {
   "cell_type": "code",
   "execution_count": 255,
   "id": "6644be09",
   "metadata": {
    "scrolled": true
   },
   "outputs": [
    {
     "data": {
      "text/html": [
       "<div>\n",
       "<style scoped>\n",
       "    .dataframe tbody tr th:only-of-type {\n",
       "        vertical-align: middle;\n",
       "    }\n",
       "\n",
       "    .dataframe tbody tr th {\n",
       "        vertical-align: top;\n",
       "    }\n",
       "\n",
       "    .dataframe thead th {\n",
       "        text-align: right;\n",
       "    }\n",
       "</style>\n",
       "<table border=\"1\" class=\"dataframe\">\n",
       "  <thead>\n",
       "    <tr style=\"text-align: right;\">\n",
       "      <th></th>\n",
       "      <th>make</th>\n",
       "      <th>model</th>\n",
       "      <th>year</th>\n",
       "      <th>engine_fuel_type</th>\n",
       "      <th>engine_hp</th>\n",
       "      <th>engine_cylinders</th>\n",
       "      <th>transmission_type</th>\n",
       "      <th>driven_wheels</th>\n",
       "      <th>number_of_doors</th>\n",
       "      <th>market_category</th>\n",
       "      <th>vehicle_size</th>\n",
       "      <th>vehicle_style</th>\n",
       "      <th>highway_mpg</th>\n",
       "      <th>city_mpg</th>\n",
       "      <th>popularity</th>\n",
       "      <th>msrp</th>\n",
       "    </tr>\n",
       "  </thead>\n",
       "  <tbody>\n",
       "    <tr>\n",
       "      <th>4161</th>\n",
       "      <td>cadillac</td>\n",
       "      <td>escalade</td>\n",
       "      <td>2015</td>\n",
       "      <td>flex-fuel_(unleaded/e85)</td>\n",
       "      <td>420.0</td>\n",
       "      <td>8.0</td>\n",
       "      <td>automatic</td>\n",
       "      <td>four_wheel_drive</td>\n",
       "      <td>4.0</td>\n",
       "      <td>flex_fuel,luxury,performance</td>\n",
       "      <td>large</td>\n",
       "      <td>4dr_suv</td>\n",
       "      <td>21</td>\n",
       "      <td>15</td>\n",
       "      <td>1624</td>\n",
       "      <td>79570</td>\n",
       "    </tr>\n",
       "    <tr>\n",
       "      <th>1893</th>\n",
       "      <td>volkswagen</td>\n",
       "      <td>beetle</td>\n",
       "      <td>2015</td>\n",
       "      <td>premium_unleaded_(recommended)</td>\n",
       "      <td>210.0</td>\n",
       "      <td>4.0</td>\n",
       "      <td>manual</td>\n",
       "      <td>front_wheel_drive</td>\n",
       "      <td>2.0</td>\n",
       "      <td>hatchback,performance</td>\n",
       "      <td>compact</td>\n",
       "      <td>2dr_hatchback</td>\n",
       "      <td>31</td>\n",
       "      <td>23</td>\n",
       "      <td>873</td>\n",
       "      <td>28115</td>\n",
       "    </tr>\n",
       "    <tr>\n",
       "      <th>11171</th>\n",
       "      <td>aston_martin</td>\n",
       "      <td>v8_vantage</td>\n",
       "      <td>2016</td>\n",
       "      <td>premium_unleaded_(required)</td>\n",
       "      <td>430.0</td>\n",
       "      <td>8.0</td>\n",
       "      <td>automated_manual</td>\n",
       "      <td>rear_wheel_drive</td>\n",
       "      <td>2.0</td>\n",
       "      <td>exotic,high-performance</td>\n",
       "      <td>compact</td>\n",
       "      <td>convertible</td>\n",
       "      <td>21</td>\n",
       "      <td>14</td>\n",
       "      <td>259</td>\n",
       "      <td>141495</td>\n",
       "    </tr>\n",
       "    <tr>\n",
       "      <th>8691</th>\n",
       "      <td>lexus</td>\n",
       "      <td>rx_450h</td>\n",
       "      <td>2016</td>\n",
       "      <td>premium_unleaded_(recommended)</td>\n",
       "      <td>308.0</td>\n",
       "      <td>6.0</td>\n",
       "      <td>automatic</td>\n",
       "      <td>all_wheel_drive</td>\n",
       "      <td>4.0</td>\n",
       "      <td>crossover,luxury,hybrid</td>\n",
       "      <td>midsize</td>\n",
       "      <td>4dr_suv</td>\n",
       "      <td>28</td>\n",
       "      <td>30</td>\n",
       "      <td>454</td>\n",
       "      <td>53635</td>\n",
       "    </tr>\n",
       "    <tr>\n",
       "      <th>651</th>\n",
       "      <td>bmw</td>\n",
       "      <td>6_series</td>\n",
       "      <td>2015</td>\n",
       "      <td>premium_unleaded_(required)</td>\n",
       "      <td>315.0</td>\n",
       "      <td>6.0</td>\n",
       "      <td>automatic</td>\n",
       "      <td>rear_wheel_drive</td>\n",
       "      <td>2.0</td>\n",
       "      <td>luxury,performance</td>\n",
       "      <td>midsize</td>\n",
       "      <td>convertible</td>\n",
       "      <td>31</td>\n",
       "      <td>20</td>\n",
       "      <td>3916</td>\n",
       "      <td>83600</td>\n",
       "    </tr>\n",
       "    <tr>\n",
       "      <th>...</th>\n",
       "      <td>...</td>\n",
       "      <td>...</td>\n",
       "      <td>...</td>\n",
       "      <td>...</td>\n",
       "      <td>...</td>\n",
       "      <td>...</td>\n",
       "      <td>...</td>\n",
       "      <td>...</td>\n",
       "      <td>...</td>\n",
       "      <td>...</td>\n",
       "      <td>...</td>\n",
       "      <td>...</td>\n",
       "      <td>...</td>\n",
       "      <td>...</td>\n",
       "      <td>...</td>\n",
       "      <td>...</td>\n",
       "    </tr>\n",
       "    <tr>\n",
       "      <th>2859</th>\n",
       "      <td>bentley</td>\n",
       "      <td>continental_gt</td>\n",
       "      <td>2014</td>\n",
       "      <td>premium_unleaded_(required)</td>\n",
       "      <td>500.0</td>\n",
       "      <td>8.0</td>\n",
       "      <td>automatic</td>\n",
       "      <td>all_wheel_drive</td>\n",
       "      <td>2.0</td>\n",
       "      <td>exotic,luxury,high-performance</td>\n",
       "      <td>midsize</td>\n",
       "      <td>coupe</td>\n",
       "      <td>24</td>\n",
       "      <td>15</td>\n",
       "      <td>520</td>\n",
       "      <td>177500</td>\n",
       "    </tr>\n",
       "    <tr>\n",
       "      <th>10592</th>\n",
       "      <td>chevrolet</td>\n",
       "      <td>tracker</td>\n",
       "      <td>2004</td>\n",
       "      <td>regular_unleaded</td>\n",
       "      <td>165.0</td>\n",
       "      <td>6.0</td>\n",
       "      <td>automatic</td>\n",
       "      <td>four_wheel_drive</td>\n",
       "      <td>4.0</td>\n",
       "      <td>NaN</td>\n",
       "      <td>compact</td>\n",
       "      <td>4dr_suv</td>\n",
       "      <td>20</td>\n",
       "      <td>17</td>\n",
       "      <td>1385</td>\n",
       "      <td>22715</td>\n",
       "    </tr>\n",
       "    <tr>\n",
       "      <th>11642</th>\n",
       "      <td>scion</td>\n",
       "      <td>xd</td>\n",
       "      <td>2012</td>\n",
       "      <td>regular_unleaded</td>\n",
       "      <td>128.0</td>\n",
       "      <td>4.0</td>\n",
       "      <td>automatic</td>\n",
       "      <td>front_wheel_drive</td>\n",
       "      <td>4.0</td>\n",
       "      <td>hatchback</td>\n",
       "      <td>compact</td>\n",
       "      <td>4dr_hatchback</td>\n",
       "      <td>33</td>\n",
       "      <td>27</td>\n",
       "      <td>105</td>\n",
       "      <td>16145</td>\n",
       "    </tr>\n",
       "    <tr>\n",
       "      <th>7469</th>\n",
       "      <td>volkswagen</td>\n",
       "      <td>passat</td>\n",
       "      <td>2015</td>\n",
       "      <td>regular_unleaded</td>\n",
       "      <td>170.0</td>\n",
       "      <td>4.0</td>\n",
       "      <td>automatic</td>\n",
       "      <td>front_wheel_drive</td>\n",
       "      <td>4.0</td>\n",
       "      <td>NaN</td>\n",
       "      <td>midsize</td>\n",
       "      <td>sedan</td>\n",
       "      <td>36</td>\n",
       "      <td>24</td>\n",
       "      <td>873</td>\n",
       "      <td>28105</td>\n",
       "    </tr>\n",
       "    <tr>\n",
       "      <th>226</th>\n",
       "      <td>chrysler</td>\n",
       "      <td>300</td>\n",
       "      <td>2017</td>\n",
       "      <td>regular_unleaded</td>\n",
       "      <td>292.0</td>\n",
       "      <td>6.0</td>\n",
       "      <td>automatic</td>\n",
       "      <td>rear_wheel_drive</td>\n",
       "      <td>4.0</td>\n",
       "      <td>performance</td>\n",
       "      <td>large</td>\n",
       "      <td>sedan</td>\n",
       "      <td>30</td>\n",
       "      <td>19</td>\n",
       "      <td>1013</td>\n",
       "      <td>38635</td>\n",
       "    </tr>\n",
       "  </tbody>\n",
       "</table>\n",
       "<p>7150 rows × 16 columns</p>\n",
       "</div>"
      ],
      "text/plain": [
       "               make           model  year                engine_fuel_type  \\\n",
       "4161       cadillac        escalade  2015        flex-fuel_(unleaded/e85)   \n",
       "1893     volkswagen          beetle  2015  premium_unleaded_(recommended)   \n",
       "11171  aston_martin      v8_vantage  2016     premium_unleaded_(required)   \n",
       "8691          lexus         rx_450h  2016  premium_unleaded_(recommended)   \n",
       "651             bmw        6_series  2015     premium_unleaded_(required)   \n",
       "...             ...             ...   ...                             ...   \n",
       "2859        bentley  continental_gt  2014     premium_unleaded_(required)   \n",
       "10592     chevrolet         tracker  2004                regular_unleaded   \n",
       "11642         scion              xd  2012                regular_unleaded   \n",
       "7469     volkswagen          passat  2015                regular_unleaded   \n",
       "226        chrysler             300  2017                regular_unleaded   \n",
       "\n",
       "       engine_hp  engine_cylinders transmission_type      driven_wheels  \\\n",
       "4161       420.0               8.0         automatic   four_wheel_drive   \n",
       "1893       210.0               4.0            manual  front_wheel_drive   \n",
       "11171      430.0               8.0  automated_manual   rear_wheel_drive   \n",
       "8691       308.0               6.0         automatic    all_wheel_drive   \n",
       "651        315.0               6.0         automatic   rear_wheel_drive   \n",
       "...          ...               ...               ...                ...   \n",
       "2859       500.0               8.0         automatic    all_wheel_drive   \n",
       "10592      165.0               6.0         automatic   four_wheel_drive   \n",
       "11642      128.0               4.0         automatic  front_wheel_drive   \n",
       "7469       170.0               4.0         automatic  front_wheel_drive   \n",
       "226        292.0               6.0         automatic   rear_wheel_drive   \n",
       "\n",
       "       number_of_doors                 market_category vehicle_size  \\\n",
       "4161               4.0    flex_fuel,luxury,performance        large   \n",
       "1893               2.0           hatchback,performance      compact   \n",
       "11171              2.0         exotic,high-performance      compact   \n",
       "8691               4.0         crossover,luxury,hybrid      midsize   \n",
       "651                2.0              luxury,performance      midsize   \n",
       "...                ...                             ...          ...   \n",
       "2859               2.0  exotic,luxury,high-performance      midsize   \n",
       "10592              4.0                             NaN      compact   \n",
       "11642              4.0                       hatchback      compact   \n",
       "7469               4.0                             NaN      midsize   \n",
       "226                4.0                     performance        large   \n",
       "\n",
       "       vehicle_style  highway_mpg  city_mpg  popularity    msrp  \n",
       "4161         4dr_suv           21        15        1624   79570  \n",
       "1893   2dr_hatchback           31        23         873   28115  \n",
       "11171    convertible           21        14         259  141495  \n",
       "8691         4dr_suv           28        30         454   53635  \n",
       "651      convertible           31        20        3916   83600  \n",
       "...              ...          ...       ...         ...     ...  \n",
       "2859           coupe           24        15         520  177500  \n",
       "10592        4dr_suv           20        17        1385   22715  \n",
       "11642  4dr_hatchback           33        27         105   16145  \n",
       "7469           sedan           36        24         873   28105  \n",
       "226            sedan           30        19        1013   38635  \n",
       "\n",
       "[7150 rows x 16 columns]"
      ]
     },
     "execution_count": 255,
     "metadata": {},
     "output_type": "execute_result"
    }
   ],
   "source": [
    "df_train"
   ]
  },
  {
   "cell_type": "code",
   "execution_count": 256,
   "id": "86cf4dc8",
   "metadata": {},
   "outputs": [
    {
     "data": {
      "text/plain": [
       "(7150, 2382, 2382)"
      ]
     },
     "execution_count": 256,
     "metadata": {},
     "output_type": "execute_result"
    }
   ],
   "source": [
    "len(df_train) , len(df_val) , len(df_test) "
   ]
  },
  {
   "cell_type": "code",
   "execution_count": 257,
   "id": "b531c50e",
   "metadata": {},
   "outputs": [
    {
     "data": {
      "text/plain": [
       "11914"
      ]
     },
     "execution_count": 257,
     "metadata": {},
     "output_type": "execute_result"
    }
   ],
   "source": [
    "7150+2382+2382"
   ]
  },
  {
   "cell_type": "code",
   "execution_count": 258,
   "id": "94e1f408",
   "metadata": {},
   "outputs": [],
   "source": [
    "df_train = df_train.reset_index(drop= True)\n",
    "df_val = df_val.reset_index(drop= True)\n",
    "df_test = df_test.reset_index(drop= True)"
   ]
  },
  {
   "cell_type": "code",
   "execution_count": 259,
   "id": "490a847c",
   "metadata": {},
   "outputs": [
    {
     "data": {
      "text/html": [
       "<div>\n",
       "<style scoped>\n",
       "    .dataframe tbody tr th:only-of-type {\n",
       "        vertical-align: middle;\n",
       "    }\n",
       "\n",
       "    .dataframe tbody tr th {\n",
       "        vertical-align: top;\n",
       "    }\n",
       "\n",
       "    .dataframe thead th {\n",
       "        text-align: right;\n",
       "    }\n",
       "</style>\n",
       "<table border=\"1\" class=\"dataframe\">\n",
       "  <thead>\n",
       "    <tr style=\"text-align: right;\">\n",
       "      <th></th>\n",
       "      <th>make</th>\n",
       "      <th>model</th>\n",
       "      <th>year</th>\n",
       "      <th>engine_fuel_type</th>\n",
       "      <th>engine_hp</th>\n",
       "      <th>engine_cylinders</th>\n",
       "      <th>transmission_type</th>\n",
       "      <th>driven_wheels</th>\n",
       "      <th>number_of_doors</th>\n",
       "      <th>market_category</th>\n",
       "      <th>vehicle_size</th>\n",
       "      <th>vehicle_style</th>\n",
       "      <th>highway_mpg</th>\n",
       "      <th>city_mpg</th>\n",
       "      <th>popularity</th>\n",
       "      <th>msrp</th>\n",
       "    </tr>\n",
       "  </thead>\n",
       "  <tbody>\n",
       "    <tr>\n",
       "      <th>0</th>\n",
       "      <td>cadillac</td>\n",
       "      <td>escalade</td>\n",
       "      <td>2015</td>\n",
       "      <td>flex-fuel_(unleaded/e85)</td>\n",
       "      <td>420.0</td>\n",
       "      <td>8.0</td>\n",
       "      <td>automatic</td>\n",
       "      <td>four_wheel_drive</td>\n",
       "      <td>4.0</td>\n",
       "      <td>flex_fuel,luxury,performance</td>\n",
       "      <td>large</td>\n",
       "      <td>4dr_suv</td>\n",
       "      <td>21</td>\n",
       "      <td>15</td>\n",
       "      <td>1624</td>\n",
       "      <td>79570</td>\n",
       "    </tr>\n",
       "    <tr>\n",
       "      <th>1</th>\n",
       "      <td>volkswagen</td>\n",
       "      <td>beetle</td>\n",
       "      <td>2015</td>\n",
       "      <td>premium_unleaded_(recommended)</td>\n",
       "      <td>210.0</td>\n",
       "      <td>4.0</td>\n",
       "      <td>manual</td>\n",
       "      <td>front_wheel_drive</td>\n",
       "      <td>2.0</td>\n",
       "      <td>hatchback,performance</td>\n",
       "      <td>compact</td>\n",
       "      <td>2dr_hatchback</td>\n",
       "      <td>31</td>\n",
       "      <td>23</td>\n",
       "      <td>873</td>\n",
       "      <td>28115</td>\n",
       "    </tr>\n",
       "    <tr>\n",
       "      <th>2</th>\n",
       "      <td>aston_martin</td>\n",
       "      <td>v8_vantage</td>\n",
       "      <td>2016</td>\n",
       "      <td>premium_unleaded_(required)</td>\n",
       "      <td>430.0</td>\n",
       "      <td>8.0</td>\n",
       "      <td>automated_manual</td>\n",
       "      <td>rear_wheel_drive</td>\n",
       "      <td>2.0</td>\n",
       "      <td>exotic,high-performance</td>\n",
       "      <td>compact</td>\n",
       "      <td>convertible</td>\n",
       "      <td>21</td>\n",
       "      <td>14</td>\n",
       "      <td>259</td>\n",
       "      <td>141495</td>\n",
       "    </tr>\n",
       "    <tr>\n",
       "      <th>3</th>\n",
       "      <td>lexus</td>\n",
       "      <td>rx_450h</td>\n",
       "      <td>2016</td>\n",
       "      <td>premium_unleaded_(recommended)</td>\n",
       "      <td>308.0</td>\n",
       "      <td>6.0</td>\n",
       "      <td>automatic</td>\n",
       "      <td>all_wheel_drive</td>\n",
       "      <td>4.0</td>\n",
       "      <td>crossover,luxury,hybrid</td>\n",
       "      <td>midsize</td>\n",
       "      <td>4dr_suv</td>\n",
       "      <td>28</td>\n",
       "      <td>30</td>\n",
       "      <td>454</td>\n",
       "      <td>53635</td>\n",
       "    </tr>\n",
       "    <tr>\n",
       "      <th>4</th>\n",
       "      <td>bmw</td>\n",
       "      <td>6_series</td>\n",
       "      <td>2015</td>\n",
       "      <td>premium_unleaded_(required)</td>\n",
       "      <td>315.0</td>\n",
       "      <td>6.0</td>\n",
       "      <td>automatic</td>\n",
       "      <td>rear_wheel_drive</td>\n",
       "      <td>2.0</td>\n",
       "      <td>luxury,performance</td>\n",
       "      <td>midsize</td>\n",
       "      <td>convertible</td>\n",
       "      <td>31</td>\n",
       "      <td>20</td>\n",
       "      <td>3916</td>\n",
       "      <td>83600</td>\n",
       "    </tr>\n",
       "  </tbody>\n",
       "</table>\n",
       "</div>"
      ],
      "text/plain": [
       "           make       model  year                engine_fuel_type  engine_hp  \\\n",
       "0      cadillac    escalade  2015        flex-fuel_(unleaded/e85)      420.0   \n",
       "1    volkswagen      beetle  2015  premium_unleaded_(recommended)      210.0   \n",
       "2  aston_martin  v8_vantage  2016     premium_unleaded_(required)      430.0   \n",
       "3         lexus     rx_450h  2016  premium_unleaded_(recommended)      308.0   \n",
       "4           bmw    6_series  2015     premium_unleaded_(required)      315.0   \n",
       "\n",
       "   engine_cylinders transmission_type      driven_wheels  number_of_doors  \\\n",
       "0               8.0         automatic   four_wheel_drive              4.0   \n",
       "1               4.0            manual  front_wheel_drive              2.0   \n",
       "2               8.0  automated_manual   rear_wheel_drive              2.0   \n",
       "3               6.0         automatic    all_wheel_drive              4.0   \n",
       "4               6.0         automatic   rear_wheel_drive              2.0   \n",
       "\n",
       "                market_category vehicle_size  vehicle_style  highway_mpg  \\\n",
       "0  flex_fuel,luxury,performance        large        4dr_suv           21   \n",
       "1         hatchback,performance      compact  2dr_hatchback           31   \n",
       "2       exotic,high-performance      compact    convertible           21   \n",
       "3       crossover,luxury,hybrid      midsize        4dr_suv           28   \n",
       "4            luxury,performance      midsize    convertible           31   \n",
       "\n",
       "   city_mpg  popularity    msrp  \n",
       "0        15        1624   79570  \n",
       "1        23         873   28115  \n",
       "2        14         259  141495  \n",
       "3        30         454   53635  \n",
       "4        20        3916   83600  "
      ]
     },
     "execution_count": 259,
     "metadata": {},
     "output_type": "execute_result"
    }
   ],
   "source": [
    "df_train.head()"
   ]
  },
  {
   "cell_type": "code",
   "execution_count": 260,
   "id": "962c68a0",
   "metadata": {},
   "outputs": [],
   "source": [
    "y_train = np.log1p(df_train.msrp.values)\n",
    "y_test  = np.log1p(df_test.msrp.values)\n",
    "y_val   = np.log1p(df_val.msrp.values)"
   ]
  },
  {
   "cell_type": "code",
   "execution_count": 261,
   "id": "47e1c050",
   "metadata": {},
   "outputs": [
    {
     "data": {
      "text/plain": [
       "(array([11.28440498, 10.24409409, 11.86002673, ...,  9.68942762,\n",
       "        10.24373836, 10.56193976]),\n",
       " array([ 9.68009397, 10.39668877, 10.67466002, ..., 10.82538255,\n",
       "         9.62845843, 10.59540898]),\n",
       " array([10.72702683, 10.78199334,  7.60140233, ..., 10.03924147,\n",
       "        10.32551475, 10.34980665]))"
      ]
     },
     "execution_count": 261,
     "metadata": {},
     "output_type": "execute_result"
    }
   ],
   "source": [
    "y_train , y_test , y_val"
   ]
  },
  {
   "cell_type": "code",
   "execution_count": 262,
   "id": "6609991c",
   "metadata": {},
   "outputs": [],
   "source": [
    "del df_train['msrp']\n",
    "del df_test['msrp']\n",
    "del df_val['msrp']"
   ]
  },
  {
   "cell_type": "code",
   "execution_count": 263,
   "id": "f347bfa9",
   "metadata": {},
   "outputs": [
    {
     "data": {
      "text/html": [
       "<div>\n",
       "<style scoped>\n",
       "    .dataframe tbody tr th:only-of-type {\n",
       "        vertical-align: middle;\n",
       "    }\n",
       "\n",
       "    .dataframe tbody tr th {\n",
       "        vertical-align: top;\n",
       "    }\n",
       "\n",
       "    .dataframe thead th {\n",
       "        text-align: right;\n",
       "    }\n",
       "</style>\n",
       "<table border=\"1\" class=\"dataframe\">\n",
       "  <thead>\n",
       "    <tr style=\"text-align: right;\">\n",
       "      <th></th>\n",
       "      <th>make</th>\n",
       "      <th>model</th>\n",
       "      <th>year</th>\n",
       "      <th>engine_fuel_type</th>\n",
       "      <th>engine_hp</th>\n",
       "      <th>engine_cylinders</th>\n",
       "      <th>transmission_type</th>\n",
       "      <th>driven_wheels</th>\n",
       "      <th>number_of_doors</th>\n",
       "      <th>market_category</th>\n",
       "      <th>vehicle_size</th>\n",
       "      <th>vehicle_style</th>\n",
       "      <th>highway_mpg</th>\n",
       "      <th>city_mpg</th>\n",
       "      <th>popularity</th>\n",
       "    </tr>\n",
       "  </thead>\n",
       "  <tbody>\n",
       "    <tr>\n",
       "      <th>0</th>\n",
       "      <td>cadillac</td>\n",
       "      <td>escalade</td>\n",
       "      <td>2015</td>\n",
       "      <td>flex-fuel_(unleaded/e85)</td>\n",
       "      <td>420.0</td>\n",
       "      <td>8.0</td>\n",
       "      <td>automatic</td>\n",
       "      <td>four_wheel_drive</td>\n",
       "      <td>4.0</td>\n",
       "      <td>flex_fuel,luxury,performance</td>\n",
       "      <td>large</td>\n",
       "      <td>4dr_suv</td>\n",
       "      <td>21</td>\n",
       "      <td>15</td>\n",
       "      <td>1624</td>\n",
       "    </tr>\n",
       "    <tr>\n",
       "      <th>1</th>\n",
       "      <td>volkswagen</td>\n",
       "      <td>beetle</td>\n",
       "      <td>2015</td>\n",
       "      <td>premium_unleaded_(recommended)</td>\n",
       "      <td>210.0</td>\n",
       "      <td>4.0</td>\n",
       "      <td>manual</td>\n",
       "      <td>front_wheel_drive</td>\n",
       "      <td>2.0</td>\n",
       "      <td>hatchback,performance</td>\n",
       "      <td>compact</td>\n",
       "      <td>2dr_hatchback</td>\n",
       "      <td>31</td>\n",
       "      <td>23</td>\n",
       "      <td>873</td>\n",
       "    </tr>\n",
       "    <tr>\n",
       "      <th>2</th>\n",
       "      <td>aston_martin</td>\n",
       "      <td>v8_vantage</td>\n",
       "      <td>2016</td>\n",
       "      <td>premium_unleaded_(required)</td>\n",
       "      <td>430.0</td>\n",
       "      <td>8.0</td>\n",
       "      <td>automated_manual</td>\n",
       "      <td>rear_wheel_drive</td>\n",
       "      <td>2.0</td>\n",
       "      <td>exotic,high-performance</td>\n",
       "      <td>compact</td>\n",
       "      <td>convertible</td>\n",
       "      <td>21</td>\n",
       "      <td>14</td>\n",
       "      <td>259</td>\n",
       "    </tr>\n",
       "    <tr>\n",
       "      <th>3</th>\n",
       "      <td>lexus</td>\n",
       "      <td>rx_450h</td>\n",
       "      <td>2016</td>\n",
       "      <td>premium_unleaded_(recommended)</td>\n",
       "      <td>308.0</td>\n",
       "      <td>6.0</td>\n",
       "      <td>automatic</td>\n",
       "      <td>all_wheel_drive</td>\n",
       "      <td>4.0</td>\n",
       "      <td>crossover,luxury,hybrid</td>\n",
       "      <td>midsize</td>\n",
       "      <td>4dr_suv</td>\n",
       "      <td>28</td>\n",
       "      <td>30</td>\n",
       "      <td>454</td>\n",
       "    </tr>\n",
       "    <tr>\n",
       "      <th>4</th>\n",
       "      <td>bmw</td>\n",
       "      <td>6_series</td>\n",
       "      <td>2015</td>\n",
       "      <td>premium_unleaded_(required)</td>\n",
       "      <td>315.0</td>\n",
       "      <td>6.0</td>\n",
       "      <td>automatic</td>\n",
       "      <td>rear_wheel_drive</td>\n",
       "      <td>2.0</td>\n",
       "      <td>luxury,performance</td>\n",
       "      <td>midsize</td>\n",
       "      <td>convertible</td>\n",
       "      <td>31</td>\n",
       "      <td>20</td>\n",
       "      <td>3916</td>\n",
       "    </tr>\n",
       "    <tr>\n",
       "      <th>...</th>\n",
       "      <td>...</td>\n",
       "      <td>...</td>\n",
       "      <td>...</td>\n",
       "      <td>...</td>\n",
       "      <td>...</td>\n",
       "      <td>...</td>\n",
       "      <td>...</td>\n",
       "      <td>...</td>\n",
       "      <td>...</td>\n",
       "      <td>...</td>\n",
       "      <td>...</td>\n",
       "      <td>...</td>\n",
       "      <td>...</td>\n",
       "      <td>...</td>\n",
       "      <td>...</td>\n",
       "    </tr>\n",
       "    <tr>\n",
       "      <th>7145</th>\n",
       "      <td>bentley</td>\n",
       "      <td>continental_gt</td>\n",
       "      <td>2014</td>\n",
       "      <td>premium_unleaded_(required)</td>\n",
       "      <td>500.0</td>\n",
       "      <td>8.0</td>\n",
       "      <td>automatic</td>\n",
       "      <td>all_wheel_drive</td>\n",
       "      <td>2.0</td>\n",
       "      <td>exotic,luxury,high-performance</td>\n",
       "      <td>midsize</td>\n",
       "      <td>coupe</td>\n",
       "      <td>24</td>\n",
       "      <td>15</td>\n",
       "      <td>520</td>\n",
       "    </tr>\n",
       "    <tr>\n",
       "      <th>7146</th>\n",
       "      <td>chevrolet</td>\n",
       "      <td>tracker</td>\n",
       "      <td>2004</td>\n",
       "      <td>regular_unleaded</td>\n",
       "      <td>165.0</td>\n",
       "      <td>6.0</td>\n",
       "      <td>automatic</td>\n",
       "      <td>four_wheel_drive</td>\n",
       "      <td>4.0</td>\n",
       "      <td>NaN</td>\n",
       "      <td>compact</td>\n",
       "      <td>4dr_suv</td>\n",
       "      <td>20</td>\n",
       "      <td>17</td>\n",
       "      <td>1385</td>\n",
       "    </tr>\n",
       "    <tr>\n",
       "      <th>7147</th>\n",
       "      <td>scion</td>\n",
       "      <td>xd</td>\n",
       "      <td>2012</td>\n",
       "      <td>regular_unleaded</td>\n",
       "      <td>128.0</td>\n",
       "      <td>4.0</td>\n",
       "      <td>automatic</td>\n",
       "      <td>front_wheel_drive</td>\n",
       "      <td>4.0</td>\n",
       "      <td>hatchback</td>\n",
       "      <td>compact</td>\n",
       "      <td>4dr_hatchback</td>\n",
       "      <td>33</td>\n",
       "      <td>27</td>\n",
       "      <td>105</td>\n",
       "    </tr>\n",
       "    <tr>\n",
       "      <th>7148</th>\n",
       "      <td>volkswagen</td>\n",
       "      <td>passat</td>\n",
       "      <td>2015</td>\n",
       "      <td>regular_unleaded</td>\n",
       "      <td>170.0</td>\n",
       "      <td>4.0</td>\n",
       "      <td>automatic</td>\n",
       "      <td>front_wheel_drive</td>\n",
       "      <td>4.0</td>\n",
       "      <td>NaN</td>\n",
       "      <td>midsize</td>\n",
       "      <td>sedan</td>\n",
       "      <td>36</td>\n",
       "      <td>24</td>\n",
       "      <td>873</td>\n",
       "    </tr>\n",
       "    <tr>\n",
       "      <th>7149</th>\n",
       "      <td>chrysler</td>\n",
       "      <td>300</td>\n",
       "      <td>2017</td>\n",
       "      <td>regular_unleaded</td>\n",
       "      <td>292.0</td>\n",
       "      <td>6.0</td>\n",
       "      <td>automatic</td>\n",
       "      <td>rear_wheel_drive</td>\n",
       "      <td>4.0</td>\n",
       "      <td>performance</td>\n",
       "      <td>large</td>\n",
       "      <td>sedan</td>\n",
       "      <td>30</td>\n",
       "      <td>19</td>\n",
       "      <td>1013</td>\n",
       "    </tr>\n",
       "  </tbody>\n",
       "</table>\n",
       "<p>7150 rows × 15 columns</p>\n",
       "</div>"
      ],
      "text/plain": [
       "              make           model  year                engine_fuel_type  \\\n",
       "0         cadillac        escalade  2015        flex-fuel_(unleaded/e85)   \n",
       "1       volkswagen          beetle  2015  premium_unleaded_(recommended)   \n",
       "2     aston_martin      v8_vantage  2016     premium_unleaded_(required)   \n",
       "3            lexus         rx_450h  2016  premium_unleaded_(recommended)   \n",
       "4              bmw        6_series  2015     premium_unleaded_(required)   \n",
       "...            ...             ...   ...                             ...   \n",
       "7145       bentley  continental_gt  2014     premium_unleaded_(required)   \n",
       "7146     chevrolet         tracker  2004                regular_unleaded   \n",
       "7147         scion              xd  2012                regular_unleaded   \n",
       "7148    volkswagen          passat  2015                regular_unleaded   \n",
       "7149      chrysler             300  2017                regular_unleaded   \n",
       "\n",
       "      engine_hp  engine_cylinders transmission_type      driven_wheels  \\\n",
       "0         420.0               8.0         automatic   four_wheel_drive   \n",
       "1         210.0               4.0            manual  front_wheel_drive   \n",
       "2         430.0               8.0  automated_manual   rear_wheel_drive   \n",
       "3         308.0               6.0         automatic    all_wheel_drive   \n",
       "4         315.0               6.0         automatic   rear_wheel_drive   \n",
       "...         ...               ...               ...                ...   \n",
       "7145      500.0               8.0         automatic    all_wheel_drive   \n",
       "7146      165.0               6.0         automatic   four_wheel_drive   \n",
       "7147      128.0               4.0         automatic  front_wheel_drive   \n",
       "7148      170.0               4.0         automatic  front_wheel_drive   \n",
       "7149      292.0               6.0         automatic   rear_wheel_drive   \n",
       "\n",
       "      number_of_doors                 market_category vehicle_size  \\\n",
       "0                 4.0    flex_fuel,luxury,performance        large   \n",
       "1                 2.0           hatchback,performance      compact   \n",
       "2                 2.0         exotic,high-performance      compact   \n",
       "3                 4.0         crossover,luxury,hybrid      midsize   \n",
       "4                 2.0              luxury,performance      midsize   \n",
       "...               ...                             ...          ...   \n",
       "7145              2.0  exotic,luxury,high-performance      midsize   \n",
       "7146              4.0                             NaN      compact   \n",
       "7147              4.0                       hatchback      compact   \n",
       "7148              4.0                             NaN      midsize   \n",
       "7149              4.0                     performance        large   \n",
       "\n",
       "      vehicle_style  highway_mpg  city_mpg  popularity  \n",
       "0           4dr_suv           21        15        1624  \n",
       "1     2dr_hatchback           31        23         873  \n",
       "2       convertible           21        14         259  \n",
       "3           4dr_suv           28        30         454  \n",
       "4       convertible           31        20        3916  \n",
       "...             ...          ...       ...         ...  \n",
       "7145          coupe           24        15         520  \n",
       "7146        4dr_suv           20        17        1385  \n",
       "7147  4dr_hatchback           33        27         105  \n",
       "7148          sedan           36        24         873  \n",
       "7149          sedan           30        19        1013  \n",
       "\n",
       "[7150 rows x 15 columns]"
      ]
     },
     "execution_count": 263,
     "metadata": {},
     "output_type": "execute_result"
    }
   ],
   "source": [
    "df_train"
   ]
  },
  {
   "cell_type": "markdown",
   "id": "d8d17897",
   "metadata": {},
   "source": [
    "# Linear Regression "
   ]
  },
  {
   "cell_type": "code",
   "execution_count": 264,
   "id": "a4f2965e",
   "metadata": {},
   "outputs": [
    {
     "data": {
      "text/plain": [
       "make                             honda\n",
       "model                             hr-v\n",
       "year                              2016\n",
       "engine_fuel_type      regular_unleaded\n",
       "engine_hp                        141.0\n",
       "engine_cylinders                   4.0\n",
       "transmission_type            automatic\n",
       "driven_wheels        front_wheel_drive\n",
       "number_of_doors                    4.0\n",
       "market_category              crossover\n",
       "vehicle_size                   compact\n",
       "vehicle_style                  4dr_suv\n",
       "highway_mpg                         35\n",
       "city_mpg                            28\n",
       "popularity                        2202\n",
       "Name: 10, dtype: object"
      ]
     },
     "execution_count": 264,
     "metadata": {},
     "output_type": "execute_result"
    }
   ],
   "source": [
    "df_train.iloc[10]"
   ]
  },
  {
   "cell_type": "code",
   "execution_count": 265,
   "id": "56f4eaec",
   "metadata": {},
   "outputs": [],
   "source": [
    "# we are taking a single instance of the dataset to explain it simply and out of all the variables we take only \n",
    "# the engine_hp , city_mpg , popularity columns to explain the linear regression model \n",
    "# because anything out of 3 dimensions is impossible to explain on a plain board\n",
    "xi = [365 , 15 , 5657]"
   ]
  },
  {
   "cell_type": "code",
   "execution_count": 266,
   "id": "ecc64046",
   "metadata": {},
   "outputs": [],
   "source": [
    "w0 = 0 # Y-intercept for the linear regression model\n",
    "w = [1,1,1] # slopes or weights for the 3 variables "
   ]
  },
  {
   "cell_type": "code",
   "execution_count": 267,
   "id": "14a8792a",
   "metadata": {},
   "outputs": [],
   "source": [
    "\"\"\"\n",
    "Alternative code for above linear regression Code from Machine Learning Bookcamp Course \n",
    "\n",
    "def linear_regression(xi):\n",
    "    n = len(xi)\n",
    "    \n",
    "    pred = w0\n",
    "    \n",
    "    for j in range(n):\n",
    "        pred = pred + w[j] * xi[j]\n",
    "        \n",
    "    return pred\n",
    "\"\"\"   \n",
    "def linear_regression(xi):\n",
    "    # y = w0 + w1.x1 + w2.x2 + w3.x3\n",
    "    y = w0\n",
    "    for i,j in zip(w,xi):\n",
    "        y += i*j \n",
    "    \n",
    "    return y "
   ]
  },
  {
   "cell_type": "code",
   "execution_count": 268,
   "id": "be3b35d7",
   "metadata": {},
   "outputs": [
    {
     "data": {
      "text/plain": [
       "6037"
      ]
     },
     "execution_count": 268,
     "metadata": {},
     "output_type": "execute_result"
    }
   ],
   "source": [
    "linear_regression(xi)"
   ]
  },
  {
   "cell_type": "code",
   "execution_count": 269,
   "id": "211fed03",
   "metadata": {},
   "outputs": [
    {
     "data": {
      "text/plain": [
       "550"
      ]
     },
     "execution_count": 269,
     "metadata": {},
     "output_type": "execute_result"
    }
   ],
   "source": [
    "xi = [453 , 11,86 ]\n",
    "linear_regression(xi)\n"
   ]
  },
  {
   "cell_type": "code",
   "execution_count": 270,
   "id": "071d0917",
   "metadata": {},
   "outputs": [
    {
     "data": {
      "text/plain": [
       "12.312"
      ]
     },
     "execution_count": 270,
     "metadata": {},
     "output_type": "execute_result"
    }
   ],
   "source": [
    "w0 = 7.17 \n",
    "w = [0.01 , 0.04 , 0.002]\n",
    "linear_regression(xi)"
   ]
  },
  {
   "cell_type": "code",
   "execution_count": 271,
   "id": "6a93afc8",
   "metadata": {},
   "outputs": [
    {
     "data": {
      "text/plain": [
       "222348.2221101062"
      ]
     },
     "execution_count": 271,
     "metadata": {},
     "output_type": "execute_result"
    }
   ],
   "source": [
    "# we need to take the exponent of the predicted values because we have take np.log1p() for the msrp values before \n",
    "# and in order to convert to the previous scale we have to use exponent of the predicted value\n",
    "np.exp(12.312) # np.expm1(12.312) this one reduces 1 from the result because we added 1 during log1p "
   ]
  },
  {
   "cell_type": "code",
   "execution_count": 272,
   "id": "12672c51",
   "metadata": {},
   "outputs": [
    {
     "data": {
      "text/plain": [
       "12.312004497439833"
      ]
     },
     "execution_count": 272,
     "metadata": {},
     "output_type": "execute_result"
    }
   ],
   "source": [
    "np.log1p(222348.2221101062)"
   ]
  },
  {
   "cell_type": "markdown",
   "id": "f3a95714",
   "metadata": {},
   "source": [
    "# Linear Regression Vector Form "
   ]
  },
  {
   "cell_type": "code",
   "execution_count": 273,
   "id": "87a0a0da",
   "metadata": {},
   "outputs": [],
   "source": [
    "def dot(xi , w):\n",
    "    n = len(xi)\n",
    "    \n",
    "    res = 0.0\n",
    "    \n",
    "    for j in range(n):\n",
    "        res += xi[j]*w[j]\n",
    "        \n",
    "    return res"
   ]
  },
  {
   "cell_type": "code",
   "execution_count": 274,
   "id": "d8463743",
   "metadata": {},
   "outputs": [],
   "source": [
    "def linear_regression(xi):\n",
    "    return w0+ dot(xi,w)\n"
   ]
  },
  {
   "cell_type": "code",
   "execution_count": 275,
   "id": "83562d3a",
   "metadata": {},
   "outputs": [],
   "source": [
    "w_new = [w0] + w"
   ]
  },
  {
   "cell_type": "code",
   "execution_count": 276,
   "id": "c2dcace2",
   "metadata": {},
   "outputs": [
    {
     "data": {
      "text/plain": [
       "[7.17, 0.01, 0.04, 0.002]"
      ]
     },
     "execution_count": 276,
     "metadata": {},
     "output_type": "execute_result"
    }
   ],
   "source": [
    "w_new"
   ]
  },
  {
   "cell_type": "code",
   "execution_count": 277,
   "id": "e921cc3a",
   "metadata": {},
   "outputs": [],
   "source": [
    "def linear_regression(xi):\n",
    "    xi = [1] + xi\n",
    "    return dot(xi , w_new)"
   ]
  },
  {
   "cell_type": "code",
   "execution_count": 278,
   "id": "0ad3add5",
   "metadata": {},
   "outputs": [
    {
     "data": {
      "text/plain": [
       "12.312"
      ]
     },
     "execution_count": 278,
     "metadata": {},
     "output_type": "execute_result"
    }
   ],
   "source": [
    "linear_regression(xi)"
   ]
  },
  {
   "cell_type": "code",
   "execution_count": 279,
   "id": "9e422dd6",
   "metadata": {},
   "outputs": [],
   "source": [
    "w0 = 7.17\n",
    "w = [0.01 , 0.04 , 0.002]\n",
    "w_new = [w0] + w "
   ]
  },
  {
   "cell_type": "code",
   "execution_count": 280,
   "id": "4182aa30",
   "metadata": {},
   "outputs": [
    {
     "data": {
      "text/plain": [
       "array([[   1,  148,   24, 1385],\n",
       "       [   1,  132,   25, 2031],\n",
       "       [   1,  453,   11,   86]])"
      ]
     },
     "execution_count": 280,
     "metadata": {},
     "output_type": "execute_result"
    }
   ],
   "source": [
    "x1 =  [1,148,24,1385] # here 1 is added by us to multiply it with bias weight W0 , to make the formula vector form (dot product)\n",
    "x2 =  [1,132,25,2031] \n",
    "x10 = [1,453,11,86]\n",
    "\n",
    "X = [x1,x2 , x10]\n",
    "X = np.array(X)\n",
    "X"
   ]
  },
  {
   "cell_type": "code",
   "execution_count": 281,
   "id": "6f3b1c5c",
   "metadata": {},
   "outputs": [],
   "source": [
    "def linear_regression(X):\n",
    "    return X.dot(w_new)"
   ]
  },
  {
   "cell_type": "code",
   "execution_count": 282,
   "id": "bd47858e",
   "metadata": {},
   "outputs": [
    {
     "data": {
      "text/plain": [
       "array([12.38 , 13.552, 12.312])"
      ]
     },
     "execution_count": 282,
     "metadata": {},
     "output_type": "execute_result"
    }
   ],
   "source": [
    "linear_regression(X)"
   ]
  },
  {
   "cell_type": "code",
   "execution_count": 283,
   "id": "a3911a25",
   "metadata": {},
   "outputs": [
    {
     "data": {
      "text/plain": [
       "array([12.38 , 13.552, 12.312])"
      ]
     },
     "execution_count": 283,
     "metadata": {},
     "output_type": "execute_result"
    }
   ],
   "source": [
    "y_pred = linear_regression(X)\n",
    "y_pred"
   ]
  },
  {
   "cell_type": "code",
   "execution_count": 284,
   "id": "ded9be27",
   "metadata": {},
   "outputs": [
    {
     "data": {
      "text/plain": [
       "array([237992.82334859, 768348.51018973, 222347.22211011])"
      ]
     },
     "execution_count": 284,
     "metadata": {},
     "output_type": "execute_result"
    }
   ],
   "source": [
    "np.expm1(y_pred)"
   ]
  },
  {
   "cell_type": "markdown",
   "id": "9868fe25",
   "metadata": {},
   "source": [
    "# Training a Linear Regression Model "
   ]
  },
  {
   "cell_type": "code",
   "execution_count": 285,
   "id": "06d98932",
   "metadata": {},
   "outputs": [],
   "source": [
    "def train_linear_regression(X,y):\n",
    "    pass"
   ]
  },
  {
   "cell_type": "code",
   "execution_count": 286,
   "id": "feb4473d",
   "metadata": {
    "scrolled": true
   },
   "outputs": [
    {
     "data": {
      "text/plain": [
       "array([[ 148,   24, 1385],\n",
       "       [ 132,   25, 2031],\n",
       "       [ 453,   11,   86],\n",
       "       [ 158,   24,  185],\n",
       "       [ 172,   25,  201],\n",
       "       [ 413,   11,   86],\n",
       "       [  38,   54,  185],\n",
       "       [ 142,   25,  431],\n",
       "       [ 453,   31,   86]])"
      ]
     },
     "execution_count": 286,
     "metadata": {},
     "output_type": "execute_result"
    }
   ],
   "source": [
    " # here 1 is added by us to multiply it with bias weight W0 , to make the formula vector form (dot product)\n",
    "\n",
    "\n",
    "X = [\n",
    "    [148,24,1385],\n",
    "    [132,25,2031],\n",
    "    [453,11,86],\n",
    "    [158,24,185],\n",
    "    [172,25,201],\n",
    "    [413,11,86],\n",
    "    [38,54,185],\n",
    "    [142,25,431],\n",
    "    [453,31,86],\n",
    "]\n",
    "\n",
    "X = np.array(X)\n",
    "X"
   ]
  },
  {
   "cell_type": "code",
   "execution_count": 287,
   "id": "34f78bff",
   "metadata": {},
   "outputs": [
    {
     "data": {
      "text/plain": [
       "array([1., 1., 1., 1., 1., 1., 1., 1., 1.])"
      ]
     },
     "execution_count": 287,
     "metadata": {},
     "output_type": "execute_result"
    }
   ],
   "source": [
    "# we need to add the bias term as the column , it basically means that what is the prediction from the model if we know \n",
    "# nothing about the particular thing we are trying to predict.. \n",
    "ones = np.ones(X.shape[0])\n",
    "ones"
   ]
  },
  {
   "cell_type": "code",
   "execution_count": 288,
   "id": "d50f9b07",
   "metadata": {},
   "outputs": [],
   "source": [
    "X = np.column_stack([ones , X])"
   ]
  },
  {
   "cell_type": "code",
   "execution_count": 289,
   "id": "1c736c7e",
   "metadata": {},
   "outputs": [
    {
     "data": {
      "text/plain": [
       "array([[1.000e+00, 1.480e+02, 2.400e+01, 1.385e+03],\n",
       "       [1.000e+00, 1.320e+02, 2.500e+01, 2.031e+03],\n",
       "       [1.000e+00, 4.530e+02, 1.100e+01, 8.600e+01],\n",
       "       [1.000e+00, 1.580e+02, 2.400e+01, 1.850e+02],\n",
       "       [1.000e+00, 1.720e+02, 2.500e+01, 2.010e+02],\n",
       "       [1.000e+00, 4.130e+02, 1.100e+01, 8.600e+01],\n",
       "       [1.000e+00, 3.800e+01, 5.400e+01, 1.850e+02],\n",
       "       [1.000e+00, 1.420e+02, 2.500e+01, 4.310e+02],\n",
       "       [1.000e+00, 4.530e+02, 3.100e+01, 8.600e+01]])"
      ]
     },
     "execution_count": 289,
     "metadata": {},
     "output_type": "execute_result"
    }
   ],
   "source": [
    "X"
   ]
  },
  {
   "cell_type": "code",
   "execution_count": 290,
   "id": "6aa2dff6",
   "metadata": {},
   "outputs": [],
   "source": [
    "y = [10000,20000,15000,25000,10000,20000,15000,25000,12000]"
   ]
  },
  {
   "attachments": {
    "Linear_Regression_Beta_Hat_Matrix_Multiplication.png": {
     "image/png": "[encoded data removed]"
    }
   },
   "cell_type": "markdown",
   "id": "f536cc48",
   "metadata": {},
   "source": [
    "![Linear_Regression_Beta_Hat_Matrix_Multiplication.png](attachment:Linear_Regression_Beta_Hat_Matrix_Multiplication.png)"
   ]
  },
  {
   "cell_type": "code",
   "execution_count": 291,
   "id": "dda8d806",
   "metadata": {},
   "outputs": [],
   "source": [
    "XTX = X.T.dot(X) # we are first taking Transpose of X and multiplying with X "
   ]
  },
  {
   "cell_type": "code",
   "execution_count": 292,
   "id": "98c736ba",
   "metadata": {},
   "outputs": [
    {
     "data": {
      "text/plain": [
       "array([[ 3.30686958e+00, -5.39612291e-03, -6.21325581e-02,\n",
       "        -6.61016816e-04],\n",
       "       [-5.39612291e-03,  1.11633857e-05,  8.66973393e-05,\n",
       "         1.08664195e-06],\n",
       "       [-6.21325581e-02,  8.66973393e-05,  1.46189255e-03,\n",
       "         8.57849603e-06],\n",
       "       [-6.61016816e-04,  1.08664195e-06,  8.57849603e-06,\n",
       "         3.60215866e-07]])"
      ]
     },
     "execution_count": 292,
     "metadata": {},
     "output_type": "execute_result"
    }
   ],
   "source": [
    "XTX_inv = np.linalg.inv(XTX) # Taking inverse of the XTX matrix \n",
    "XTX_inv"
   ]
  },
  {
   "cell_type": "code",
   "execution_count": 293,
   "id": "8113753a",
   "metadata": {},
   "outputs": [
    {
     "data": {
      "text/plain": [
       "array([ 3.00067767e+04, -2.27742529e+01, -2.57694130e+02, -2.30120640e+00])"
      ]
     },
     "execution_count": 293,
     "metadata": {},
     "output_type": "execute_result"
    }
   ],
   "source": [
    "w_full = XTX_inv.dot(X.T).dot(y)\n",
    "w_full"
   ]
  },
  {
   "cell_type": "code",
   "execution_count": 294,
   "id": "71f63967",
   "metadata": {},
   "outputs": [],
   "source": [
    "w0 = w_full[0] # the Bias term or the y-intercept where the line cuts the y axis and it also means what is the value if all\n",
    "# values for X input is zero so we know what is the value at the value 0 for X \n",
    "w = w_full[1:]"
   ]
  },
  {
   "cell_type": "code",
   "execution_count": 295,
   "id": "72026c39",
   "metadata": {},
   "outputs": [
    {
     "data": {
      "text/plain": [
       "(30006.77669255559, array([ -22.77425287, -257.69412959,   -2.3012064 ]))"
      ]
     },
     "execution_count": 295,
     "metadata": {},
     "output_type": "execute_result"
    }
   ],
   "source": [
    "w0 , w"
   ]
  },
  {
   "cell_type": "code",
   "execution_count": 296,
   "id": "b9ac7e07",
   "metadata": {},
   "outputs": [
    {
     "data": {
      "text/plain": [
       "array([[1.000e+00, 1.480e+02, 2.400e+01, 1.385e+03],\n",
       "       [1.000e+00, 1.320e+02, 2.500e+01, 2.031e+03],\n",
       "       [1.000e+00, 4.530e+02, 1.100e+01, 8.600e+01],\n",
       "       [1.000e+00, 1.580e+02, 2.400e+01, 1.850e+02],\n",
       "       [1.000e+00, 1.720e+02, 2.500e+01, 2.010e+02],\n",
       "       [1.000e+00, 4.130e+02, 1.100e+01, 8.600e+01],\n",
       "       [1.000e+00, 3.800e+01, 5.400e+01, 1.850e+02],\n",
       "       [1.000e+00, 1.420e+02, 2.500e+01, 4.310e+02],\n",
       "       [1.000e+00, 4.530e+02, 3.100e+01, 8.600e+01]])"
      ]
     },
     "execution_count": 296,
     "metadata": {},
     "output_type": "execute_result"
    }
   ],
   "source": [
    "X"
   ]
  },
  {
   "cell_type": "code",
   "execution_count": 297,
   "id": "c7db26ca",
   "metadata": {},
   "outputs": [],
   "source": [
    "def train_linear_regression(X,y):\n",
    "    #add ones to the given input feature matrix X as the first column with rows X.shape[0abs]\n",
    "    ones = np.ones(X.shape[0])\n",
    "    #add the ones created above to be the first column in the input feature matrix \n",
    "    X = np.column_stack([ones , X])\n",
    "    # Take the dot product of Transpose of matrix X and X \n",
    "    XTX = X.T.dot(X)\n",
    "    # Taking inverse of the XTX created above\n",
    "    XTX_inv = np.linalg.inv(XTX)\n",
    "    # multiplying inverse of XTX with Transpose of X and Y matrix \n",
    "    w_full = XTX_inv.dot(X.T).dot(y)\n",
    "    # The Bias or Y-intercept term is the first one so w_full[0]\n",
    "    w0 = w_full[0]\n",
    "    # the remaining are the respective weights for the columns in the feature matrix \n",
    "    w = w_full[1:]\n",
    "    \n",
    "    return w0 , w\n",
    "\n"
   ]
  },
  {
   "cell_type": "code",
   "execution_count": 298,
   "id": "2593b8fa",
   "metadata": {},
   "outputs": [
    {
     "ename": "LinAlgError",
     "evalue": "Singular matrix",
     "output_type": "error",
     "traceback": [
      "\u001b[1;31m---------------------------------------------------------------------------\u001b[0m",
      "\u001b[1;31mLinAlgError\u001b[0m                               Traceback (most recent call last)",
      "\u001b[1;32m<ipython-input-298-ed5d7ddc40b1>\u001b[0m in \u001b[0;36m<module>\u001b[1;34m\u001b[0m\n\u001b[1;32m----> 1\u001b[1;33m \u001b[0mtrain_linear_regression\u001b[0m\u001b[1;33m(\u001b[0m\u001b[0mX\u001b[0m\u001b[1;33m,\u001b[0m\u001b[0my\u001b[0m\u001b[1;33m)\u001b[0m\u001b[1;33m\u001b[0m\u001b[1;33m\u001b[0m\u001b[0m\n\u001b[0m",
      "\u001b[1;32m<ipython-input-297-f4159d7be460>\u001b[0m in \u001b[0;36mtrain_linear_regression\u001b[1;34m(X, y)\u001b[0m\n\u001b[0;32m      7\u001b[0m     \u001b[0mXTX\u001b[0m \u001b[1;33m=\u001b[0m \u001b[0mX\u001b[0m\u001b[1;33m.\u001b[0m\u001b[0mT\u001b[0m\u001b[1;33m.\u001b[0m\u001b[0mdot\u001b[0m\u001b[1;33m(\u001b[0m\u001b[0mX\u001b[0m\u001b[1;33m)\u001b[0m\u001b[1;33m\u001b[0m\u001b[1;33m\u001b[0m\u001b[0m\n\u001b[0;32m      8\u001b[0m     \u001b[1;31m# Taking inverse of the XTX created above\u001b[0m\u001b[1;33m\u001b[0m\u001b[1;33m\u001b[0m\u001b[1;33m\u001b[0m\u001b[0m\n\u001b[1;32m----> 9\u001b[1;33m     \u001b[0mXTX_inv\u001b[0m \u001b[1;33m=\u001b[0m \u001b[0mnp\u001b[0m\u001b[1;33m.\u001b[0m\u001b[0mlinalg\u001b[0m\u001b[1;33m.\u001b[0m\u001b[0minv\u001b[0m\u001b[1;33m(\u001b[0m\u001b[0mXTX\u001b[0m\u001b[1;33m)\u001b[0m\u001b[1;33m\u001b[0m\u001b[1;33m\u001b[0m\u001b[0m\n\u001b[0m\u001b[0;32m     10\u001b[0m     \u001b[1;31m# multiplying inverse of XTX with Transpose of X and Y matrix\u001b[0m\u001b[1;33m\u001b[0m\u001b[1;33m\u001b[0m\u001b[1;33m\u001b[0m\u001b[0m\n\u001b[0;32m     11\u001b[0m     \u001b[0mw_full\u001b[0m \u001b[1;33m=\u001b[0m \u001b[0mXTX_inv\u001b[0m\u001b[1;33m.\u001b[0m\u001b[0mdot\u001b[0m\u001b[1;33m(\u001b[0m\u001b[0mX\u001b[0m\u001b[1;33m.\u001b[0m\u001b[0mT\u001b[0m\u001b[1;33m)\u001b[0m\u001b[1;33m.\u001b[0m\u001b[0mdot\u001b[0m\u001b[1;33m(\u001b[0m\u001b[0my\u001b[0m\u001b[1;33m)\u001b[0m\u001b[1;33m\u001b[0m\u001b[1;33m\u001b[0m\u001b[0m\n",
      "\u001b[1;32m<__array_function__ internals>\u001b[0m in \u001b[0;36minv\u001b[1;34m(*args, **kwargs)\u001b[0m\n",
      "\u001b[1;32mE:\\Anaconda3\\lib\\site-packages\\numpy\\linalg\\linalg.py\u001b[0m in \u001b[0;36minv\u001b[1;34m(a)\u001b[0m\n\u001b[0;32m    543\u001b[0m     \u001b[0msignature\u001b[0m \u001b[1;33m=\u001b[0m \u001b[1;34m'D->D'\u001b[0m \u001b[1;32mif\u001b[0m \u001b[0misComplexType\u001b[0m\u001b[1;33m(\u001b[0m\u001b[0mt\u001b[0m\u001b[1;33m)\u001b[0m \u001b[1;32melse\u001b[0m \u001b[1;34m'd->d'\u001b[0m\u001b[1;33m\u001b[0m\u001b[1;33m\u001b[0m\u001b[0m\n\u001b[0;32m    544\u001b[0m     \u001b[0mextobj\u001b[0m \u001b[1;33m=\u001b[0m \u001b[0mget_linalg_error_extobj\u001b[0m\u001b[1;33m(\u001b[0m\u001b[0m_raise_linalgerror_singular\u001b[0m\u001b[1;33m)\u001b[0m\u001b[1;33m\u001b[0m\u001b[1;33m\u001b[0m\u001b[0m\n\u001b[1;32m--> 545\u001b[1;33m     \u001b[0mainv\u001b[0m \u001b[1;33m=\u001b[0m \u001b[0m_umath_linalg\u001b[0m\u001b[1;33m.\u001b[0m\u001b[0minv\u001b[0m\u001b[1;33m(\u001b[0m\u001b[0ma\u001b[0m\u001b[1;33m,\u001b[0m \u001b[0msignature\u001b[0m\u001b[1;33m=\u001b[0m\u001b[0msignature\u001b[0m\u001b[1;33m,\u001b[0m \u001b[0mextobj\u001b[0m\u001b[1;33m=\u001b[0m\u001b[0mextobj\u001b[0m\u001b[1;33m)\u001b[0m\u001b[1;33m\u001b[0m\u001b[1;33m\u001b[0m\u001b[0m\n\u001b[0m\u001b[0;32m    546\u001b[0m     \u001b[1;32mreturn\u001b[0m \u001b[0mwrap\u001b[0m\u001b[1;33m(\u001b[0m\u001b[0mainv\u001b[0m\u001b[1;33m.\u001b[0m\u001b[0mastype\u001b[0m\u001b[1;33m(\u001b[0m\u001b[0mresult_t\u001b[0m\u001b[1;33m,\u001b[0m \u001b[0mcopy\u001b[0m\u001b[1;33m=\u001b[0m\u001b[1;32mFalse\u001b[0m\u001b[1;33m)\u001b[0m\u001b[1;33m)\u001b[0m\u001b[1;33m\u001b[0m\u001b[1;33m\u001b[0m\u001b[0m\n\u001b[0;32m    547\u001b[0m \u001b[1;33m\u001b[0m\u001b[0m\n",
      "\u001b[1;32mE:\\Anaconda3\\lib\\site-packages\\numpy\\linalg\\linalg.py\u001b[0m in \u001b[0;36m_raise_linalgerror_singular\u001b[1;34m(err, flag)\u001b[0m\n\u001b[0;32m     86\u001b[0m \u001b[1;33m\u001b[0m\u001b[0m\n\u001b[0;32m     87\u001b[0m \u001b[1;32mdef\u001b[0m \u001b[0m_raise_linalgerror_singular\u001b[0m\u001b[1;33m(\u001b[0m\u001b[0merr\u001b[0m\u001b[1;33m,\u001b[0m \u001b[0mflag\u001b[0m\u001b[1;33m)\u001b[0m\u001b[1;33m:\u001b[0m\u001b[1;33m\u001b[0m\u001b[1;33m\u001b[0m\u001b[0m\n\u001b[1;32m---> 88\u001b[1;33m     \u001b[1;32mraise\u001b[0m \u001b[0mLinAlgError\u001b[0m\u001b[1;33m(\u001b[0m\u001b[1;34m\"Singular matrix\"\u001b[0m\u001b[1;33m)\u001b[0m\u001b[1;33m\u001b[0m\u001b[1;33m\u001b[0m\u001b[0m\n\u001b[0m\u001b[0;32m     89\u001b[0m \u001b[1;33m\u001b[0m\u001b[0m\n\u001b[0;32m     90\u001b[0m \u001b[1;32mdef\u001b[0m \u001b[0m_raise_linalgerror_nonposdef\u001b[0m\u001b[1;33m(\u001b[0m\u001b[0merr\u001b[0m\u001b[1;33m,\u001b[0m \u001b[0mflag\u001b[0m\u001b[1;33m)\u001b[0m\u001b[1;33m:\u001b[0m\u001b[1;33m\u001b[0m\u001b[1;33m\u001b[0m\u001b[0m\n",
      "\u001b[1;31mLinAlgError\u001b[0m: Singular matrix"
     ]
    }
   ],
   "source": [
    "train_linear_regression(X,y)"
   ]
  },
  {
   "cell_type": "markdown",
   "id": "9c165476",
   "metadata": {},
   "source": [
    "# Car Price Baseline Model "
   ]
  },
  {
   "cell_type": "code",
   "execution_count": 299,
   "id": "63bd77c0",
   "metadata": {},
   "outputs": [
    {
     "data": {
      "text/plain": [
       "array([dtype('O'), dtype('int64'), dtype('float64')], dtype=object)"
      ]
     },
     "execution_count": 299,
     "metadata": {},
     "output_type": "execute_result"
    }
   ],
   "source": [
    "df.dtypes.unique()"
   ]
  },
  {
   "cell_type": "code",
   "execution_count": 300,
   "id": "2da04296",
   "metadata": {},
   "outputs": [
    {
     "data": {
      "text/plain": [
       "Index(['year', 'engine_hp', 'engine_cylinders', 'number_of_doors',\n",
       "       'highway_mpg', 'city_mpg', 'popularity'],\n",
       "      dtype='object')"
      ]
     },
     "execution_count": 300,
     "metadata": {},
     "output_type": "execute_result"
    }
   ],
   "source": [
    "base = df_train.select_dtypes(include=['int64','float64']).columns\n",
    "base"
   ]
  },
  {
   "cell_type": "code",
   "execution_count": 301,
   "id": "59e06bec",
   "metadata": {},
   "outputs": [],
   "source": [
    "# we are considering only 5 columns out of 7 numerical columns \n",
    "base = ['engine_hp' , 'engine_cylinders', 'highway_mpg' , 'city_mpg' , 'popularity']"
   ]
  },
  {
   "cell_type": "code",
   "execution_count": 302,
   "id": "d7848df5",
   "metadata": {},
   "outputs": [],
   "source": [
    "X_train = df_train[base].values"
   ]
  },
  {
   "cell_type": "code",
   "execution_count": 303,
   "id": "b3227305",
   "metadata": {
    "scrolled": true
   },
   "outputs": [
    {
     "data": {
      "text/plain": [
       "array([11.28440498, 10.24409409, 11.86002673, ...,  9.68942762,\n",
       "       10.24373836, 10.56193976])"
      ]
     },
     "execution_count": 303,
     "metadata": {},
     "output_type": "execute_result"
    }
   ],
   "source": [
    "y_train"
   ]
  },
  {
   "cell_type": "code",
   "execution_count": 304,
   "id": "9da3b9cb",
   "metadata": {
    "scrolled": true
   },
   "outputs": [
    {
     "data": {
      "text/plain": [
       "engine_hp           39\n",
       "engine_cylinders    16\n",
       "highway_mpg          0\n",
       "city_mpg             0\n",
       "popularity           0\n",
       "dtype: int64"
      ]
     },
     "execution_count": 304,
     "metadata": {},
     "output_type": "execute_result"
    }
   ],
   "source": [
    "df_train[base].isnull().sum()"
   ]
  },
  {
   "cell_type": "code",
   "execution_count": 305,
   "id": "55066a4c",
   "metadata": {},
   "outputs": [],
   "source": [
    "X_train = df_train[base].fillna(0) #we are simply filling with 0, we have to follow certain condition to fill missing values \n",
    "# here we are just filling it 0 becasuse we are just demonstrating how linear regression works  \n",
    "# for example let's suppose there is a null value in age column we can't fill it with 0 because no body has age 0 \n",
    "# and here in this case we have null values in engine_hp and car will never ever have 0 engine HP \n",
    "# so filling the null values with ZERO is a bad idea "
   ]
  },
  {
   "cell_type": "code",
   "execution_count": 306,
   "id": "29ab165d",
   "metadata": {},
   "outputs": [],
   "source": [
    "w0 , w = train_linear_regression(X_train , y_train)"
   ]
  },
  {
   "cell_type": "code",
   "execution_count": 307,
   "id": "16141ce7",
   "metadata": {},
   "outputs": [],
   "source": [
    "# predicting using train_linear_regression\n",
    "\n",
    "y_pred = w0+ X_train.dot(w)"
   ]
  },
  {
   "cell_type": "code",
   "execution_count": 308,
   "id": "84591cce",
   "metadata": {},
   "outputs": [
    {
     "data": {
      "text/plain": [
       "0       11.248678\n",
       "1       10.121691\n",
       "2       11.346623\n",
       "3       10.845505\n",
       "4       10.740863\n",
       "          ...    \n",
       "7145    12.080189\n",
       "7146     9.112672\n",
       "7147     9.439137\n",
       "7148     9.827699\n",
       "7149    10.526384\n",
       "Length: 7150, dtype: float64"
      ]
     },
     "execution_count": 308,
     "metadata": {},
     "output_type": "execute_result"
    }
   ],
   "source": [
    "y_pred "
   ]
  },
  {
   "cell_type": "code",
   "execution_count": 309,
   "id": "726cc9df",
   "metadata": {},
   "outputs": [
    {
     "data": {
      "text/plain": [
       "<AxesSubplot:ylabel='Count'>"
      ]
     },
     "execution_count": 309,
     "metadata": {},
     "output_type": "execute_result"
    },
    {
     "data": {
      "image/png": "[encoded data removed]",
      "text/plain": [
       "<Figure size 432x288 with 1 Axes>"
      ]
     },
     "metadata": {
      "needs_background": "light"
     },
     "output_type": "display_data"
    }
   ],
   "source": [
    "sns.histplot(y_pred, color ='red', alpha=0.5 ,bins =50)\n",
    "sns.histplot(y_train , color='blue' , alpha =0.5 , bins = 50) "
   ]
  },
  {
   "cell_type": "markdown",
   "id": "3c79261f",
   "metadata": {},
   "source": [
    "# RMSE "
   ]
  },
  {
   "attachments": {
    "rmse.png": {
     "image/png": "[encoded data removed]"
    }
   },
   "cell_type": "markdown",
   "id": "309e4259",
   "metadata": {},
   "source": [
    "![rmse.png](attachment:rmse.png)\n",
    "\n"
   ]
  },
  {
   "cell_type": "code",
   "execution_count": 310,
   "id": "4e7c39a0",
   "metadata": {},
   "outputs": [],
   "source": [
    "def rmse(y_pred , y_actual):\n",
    "    mean_squared_error = (y_pred - y_actual)**2\n",
    "    sum_of_mean_squared_error = sum(mean_squared_error)/ len(y_pred) # or mean_squared_error.mean()\n",
    "    return np.sqrt(sum_of_mean_squared_error)"
   ]
  },
  {
   "cell_type": "code",
   "execution_count": 311,
   "id": "a8d33d49",
   "metadata": {},
   "outputs": [
    {
     "data": {
      "text/plain": [
       "0.7455950646586569"
      ]
     },
     "execution_count": 311,
     "metadata": {},
     "output_type": "execute_result"
    }
   ],
   "source": [
    "rmse(y_pred , y_train)"
   ]
  },
  {
   "cell_type": "markdown",
   "id": "ee22fbb5",
   "metadata": {},
   "source": [
    "# Validating the model "
   ]
  },
  {
   "cell_type": "code",
   "execution_count": 312,
   "id": "776599a0",
   "metadata": {},
   "outputs": [],
   "source": [
    "base = ['engine_hp' , 'engine_cylinders', 'highway_mpg' , 'city_mpg' , 'popularity']\n",
    "\n",
    "X_train = df_train[base].fillna(0).values\n",
    "\n",
    "w0 , w = train_linear_regression(X_train , y_train)\n",
    "\n",
    "y_pred = w0+ X_train.dot(w)"
   ]
  },
  {
   "cell_type": "code",
   "execution_count": 313,
   "id": "efc666c4",
   "metadata": {},
   "outputs": [],
   "source": [
    "def prepare_X(df):\n",
    "    df_num = df[base]\n",
    "    df_num = df_num.fillna(0)\n",
    "    X = df_num.values\n",
    "    return X "
   ]
  },
  {
   "cell_type": "code",
   "execution_count": 314,
   "id": "91a06ce1",
   "metadata": {},
   "outputs": [
    {
     "data": {
      "text/plain": [
       "0.7592848935575782"
      ]
     },
     "execution_count": 314,
     "metadata": {},
     "output_type": "execute_result"
    }
   ],
   "source": [
    "\n",
    "#Training the linear regression model on the training data to learn the weights\n",
    "X_train = prepare_X(df_train)\n",
    "w0 , w = train_linear_regression(X_train , y_train)\n",
    "\n",
    "\n",
    "#Here we are using the validation data to check how good the model is performing and by using this value we will select\n",
    "# which model to choose from the models used and use that model to check on the test data \n",
    "X_val = prepare_X(df_val)\n",
    "y_pred = w0+X_val.dot(w)\n",
    "\n",
    "rmse(y_val , y_pred)"
   ]
  },
  {
   "cell_type": "markdown",
   "id": "fd3e96eb",
   "metadata": {},
   "source": [
    "# Simple Feature Engineering "
   ]
  },
  {
   "cell_type": "code",
   "execution_count": 315,
   "id": "1e3892b1",
   "metadata": {},
   "outputs": [],
   "source": [
    "df['age'] = 2017 - df.year"
   ]
  },
  {
   "cell_type": "code",
   "execution_count": 316,
   "id": "6748b113",
   "metadata": {},
   "outputs": [],
   "source": [
    "def prepare_X(df):\n",
    "    df = df.copy() # we do not want to modify the original dataset\n",
    "    df['age'] = 2017 - df.year\n",
    "    features = base +['age'] # adding the new created age numerical column to the already contained int columns in base \n",
    "    df_num = df[features]\n",
    "    df_num = df_num.fillna(0)\n",
    "    X = df_num.values\n",
    "    return X "
   ]
  },
  {
   "cell_type": "code",
   "execution_count": 317,
   "id": "29b26e25",
   "metadata": {},
   "outputs": [
    {
     "data": {
      "text/plain": [
       "0.5204932544339524"
      ]
     },
     "execution_count": 317,
     "metadata": {},
     "output_type": "execute_result"
    }
   ],
   "source": [
    "X_train = prepare_X(df_train)\n",
    "w0 , w = train_linear_regression(X_train , y_train)\n",
    "\n",
    "X_val = prepare_X(df_val)\n",
    "y_pred = w0+X_val.dot(w)\n",
    "\n",
    "rmse(y_val , y_pred)"
   ]
  },
  {
   "cell_type": "code",
   "execution_count": 318,
   "id": "3d612757",
   "metadata": {},
   "outputs": [
    {
     "data": {
      "text/plain": [
       "<AxesSubplot:ylabel='Count'>"
      ]
     },
     "execution_count": 318,
     "metadata": {},
     "output_type": "execute_result"
    },
    {
     "data": {
      "image/png": "[encoded data removed]",
      "text/plain": [
       "<Figure size 432x288 with 1 Axes>"
      ]
     },
     "metadata": {
      "needs_background": "light"
     },
     "output_type": "display_data"
    }
   ],
   "source": [
    "sns.histplot(y_pred, color ='red', alpha=0.5 ,bins =50)\n",
    "sns.histplot(y_val , color='blue' , alpha =0.5 , bins = 50) "
   ]
  },
  {
   "cell_type": "markdown",
   "id": "d6c0824d",
   "metadata": {},
   "source": [
    "# Categorical Variables "
   ]
  },
  {
   "cell_type": "code",
   "execution_count": 319,
   "id": "08121741",
   "metadata": {},
   "outputs": [
    {
     "data": {
      "text/plain": [
       "array([ 4.,  2.,  3., nan])"
      ]
     },
     "execution_count": 319,
     "metadata": {},
     "output_type": "execute_result"
    }
   ],
   "source": [
    "df_train.number_of_doors.unique()"
   ]
  },
  {
   "cell_type": "code",
   "execution_count": 320,
   "id": "0ea69040",
   "metadata": {},
   "outputs": [],
   "source": [
    "df_train['num_doors_2'] =(df_train.number_of_doors == 2).astype(int)\n",
    "df_train['num_doors_3'] =(df_train.number_of_doors == 3).astype(int)\n",
    "df_train['num_doors_4'] =(df_train.number_of_doors == 4).astype(int)\n",
    "\n",
    "\n",
    "'''\n",
    "for i in [2,3,4]:\n",
    "    df_train['num_doors'+str(i)]  = (df_train.number_of_doors == i).astype(int)\n",
    "\n",
    "'''"
   ]
  },
  {
   "cell_type": "code",
   "execution_count": 323,
   "id": "2f917d21",
   "metadata": {},
   "outputs": [],
   "source": [
    "def prepare_X(df):\n",
    "    df = df.copy() # we do not want to modify the original dataset\n",
    "    features = base.copy() # we do not want to modify the original integer column list\n",
    "    \n",
    "    df['age'] = 2017 - df.year\n",
    "    \n",
    "    features.append('age') # adding the new created age numerical column to the already contained int columns in base\n",
    "    \n",
    "    for v  in [2,3,4]: # [2,3,4] are unique values in the number of doors column so we are encoding it to 0,1\n",
    "        df['num_doors_%s'%v] = (df.number_of_doors == v).astype(int)\n",
    "        features.append('num_doors_%s'%v)\n",
    "        \n",
    "    df_num = df[features]\n",
    "    df_num = df_num.fillna(0)\n",
    "    X = df_num.values\n",
    "    return X "
   ]
  },
  {
   "cell_type": "code",
   "execution_count": 324,
   "id": "02fe86f7",
   "metadata": {},
   "outputs": [
    {
     "data": {
      "text/plain": [
       "array([[420.,   8.,  21., ...,   0.,   0.,   1.],\n",
       "       [210.,   4.,  31., ...,   1.,   0.,   0.],\n",
       "       [430.,   8.,  21., ...,   1.,   0.,   0.],\n",
       "       ...,\n",
       "       [128.,   4.,  33., ...,   0.,   0.,   1.],\n",
       "       [170.,   4.,  36., ...,   0.,   0.,   1.],\n",
       "       [292.,   6.,  30., ...,   0.,   0.,   1.]])"
      ]
     },
     "execution_count": 324,
     "metadata": {},
     "output_type": "execute_result"
    }
   ],
   "source": [
    "prepare_X(df_train)"
   ]
  },
  {
   "cell_type": "code",
   "execution_count": 325,
   "id": "d72c16b6",
   "metadata": {},
   "outputs": [
    {
     "data": {
      "text/plain": [
       "0.5196531167829282"
      ]
     },
     "execution_count": 325,
     "metadata": {},
     "output_type": "execute_result"
    }
   ],
   "source": [
    "X_train = prepare_X(df_train)\n",
    "w0 , w = train_linear_regression(X_train , y_train)\n",
    "\n",
    "X_val = prepare_X(df_val)\n",
    "y_pred = w0+X_val.dot(w)\n",
    "\n",
    "rmse(y_val , y_pred)"
   ]
  },
  {
   "cell_type": "code",
   "execution_count": 329,
   "id": "ccbb2bbc",
   "metadata": {},
   "outputs": [
    {
     "data": {
      "text/plain": [
       "['chevrolet', 'ford', 'volkswagen', 'toyota', 'dodge']"
      ]
     },
     "execution_count": 329,
     "metadata": {},
     "output_type": "execute_result"
    }
   ],
   "source": [
    "makes = list(df.make.value_counts().head().index) # we are only taking the top 5 most car make to encode the string values\n",
    "\n",
    "makes"
   ]
  },
  {
   "cell_type": "code",
   "execution_count": 330,
   "id": "e5b2ea09",
   "metadata": {},
   "outputs": [],
   "source": [
    "def prepare_X(df):\n",
    "    df = df.copy() # we do not want to modify the original dataset\n",
    "    features = base.copy() # we do not want to modify the original integer column list\n",
    "    \n",
    "    df['age'] = 2017 - df.year\n",
    "    \n",
    "    features.append('age') # adding the new created age numerical column to the already contained int columns in base\n",
    "    \n",
    "    for v  in [2,3,4]: # [2,3,4] are unique values in the number of doors column so we are encoding it to 0,1\n",
    "        df['num_doors_%s'%v] = (df.number_of_doors == v).astype(int)\n",
    "        features.append('num_doors_%s'%v)\n",
    "        \n",
    "    for v  in makes: # [2,3,4] are unique values in the number of doors column so we are encoding it to 0,1\n",
    "        df['make_%s'%v] = (df.make == v).astype(int)\n",
    "        features.append('make_%s'%v)    \n",
    "        \n",
    "    df_num = df[features]\n",
    "    df_num = df_num.fillna(0)\n",
    "    X = df_num.values\n",
    "    return X "
   ]
  },
  {
   "cell_type": "code",
   "execution_count": 331,
   "id": "4aeb203c",
   "metadata": {},
   "outputs": [
    {
     "data": {
      "text/plain": [
       "0.5129460784502305"
      ]
     },
     "execution_count": 331,
     "metadata": {},
     "output_type": "execute_result"
    }
   ],
   "source": [
    "X_train = prepare_X(df_train)\n",
    "w0 , w = train_linear_regression(X_train , y_train)\n",
    "\n",
    "X_val = prepare_X(df_val)\n",
    "y_pred = w0+X_val.dot(w)\n",
    "\n",
    "rmse(y_val , y_pred)"
   ]
  },
  {
   "cell_type": "code",
   "execution_count": 332,
   "id": "dba91d68",
   "metadata": {},
   "outputs": [],
   "source": [
    "categorical_variables = ['make' , 'engine_fuel_type' , 'transmission_type' , 'driven_wheels' , 'market_category',\n",
    "                        'vehicle_size' , 'vehicle_style']"
   ]
  },
  {
   "cell_type": "code",
   "execution_count": 333,
   "id": "c9a8afa0",
   "metadata": {},
   "outputs": [],
   "source": [
    "categories = {}\n",
    "\n",
    "for c in categorical_variables:\n",
    "    categories[c] = list(df[c].value_counts().head().index)"
   ]
  },
  {
   "cell_type": "code",
   "execution_count": 334,
   "id": "2b94db23",
   "metadata": {},
   "outputs": [
    {
     "data": {
      "text/plain": [
       "{'make': ['chevrolet', 'ford', 'volkswagen', 'toyota', 'dodge'],\n",
       " 'engine_fuel_type': ['regular_unleaded',\n",
       "  'premium_unleaded_(required)',\n",
       "  'premium_unleaded_(recommended)',\n",
       "  'flex-fuel_(unleaded/e85)',\n",
       "  'diesel'],\n",
       " 'transmission_type': ['automatic',\n",
       "  'manual',\n",
       "  'automated_manual',\n",
       "  'direct_drive',\n",
       "  'unknown'],\n",
       " 'driven_wheels': ['front_wheel_drive',\n",
       "  'rear_wheel_drive',\n",
       "  'all_wheel_drive',\n",
       "  'four_wheel_drive'],\n",
       " 'market_category': ['crossover',\n",
       "  'flex_fuel',\n",
       "  'luxury',\n",
       "  'luxury,performance',\n",
       "  'hatchback'],\n",
       " 'vehicle_size': ['compact', 'midsize', 'large'],\n",
       " 'vehicle_style': ['sedan',\n",
       "  '4dr_suv',\n",
       "  'coupe',\n",
       "  'convertible',\n",
       "  '4dr_hatchback']}"
      ]
     },
     "execution_count": 334,
     "metadata": {},
     "output_type": "execute_result"
    }
   ],
   "source": [
    "categories"
   ]
  },
  {
   "cell_type": "code",
   "execution_count": 337,
   "id": "8a2c5115",
   "metadata": {},
   "outputs": [],
   "source": [
    "def prepare_X(df):\n",
    "    df = df.copy() # we do not want to modify the original dataset\n",
    "    features = base.copy() # we do not want to modify the original integer column list\n",
    "    \n",
    "    df['age'] = 2017 - df.year\n",
    "    \n",
    "    features.append('age') # adding the new created age numerical column to the already contained int columns in base\n",
    "    \n",
    "    for v  in [2,3,4]: # [2,3,4] are unique values in the number of doors column so we are encoding it to 0,1\n",
    "        df['num_doors_%s'%v] = (df.number_of_doors == v).astype(int)\n",
    "        features.append('num_doors_%s'%v)\n",
    "        \n",
    "        \n",
    "    for name, values  in categories.items():# [2,3,4] are unique values in the number of doors column so we are encoding it to 0,1\n",
    "        for value in values:\n",
    "            df['%s_%s'% (name,value)] = (df[name] == value).astype(int)\n",
    "            features.append('%s_%s'% (name,value))    \n",
    "        \n",
    "    df_num = df[features]\n",
    "    df_num = df_num.fillna(0)\n",
    "    X = df_num.values\n",
    "    return X "
   ]
  },
  {
   "cell_type": "code",
   "execution_count": 339,
   "id": "dff0d39b",
   "metadata": {},
   "outputs": [
    {
     "data": {
      "text/plain": [
       "425.62671321915104"
      ]
     },
     "execution_count": 339,
     "metadata": {},
     "output_type": "execute_result"
    }
   ],
   "source": [
    "X_train = prepare_X(df_train)\n",
    "w0 , w = train_linear_regression(X_train , y_train)\n",
    "\n",
    "X_val = prepare_X(df_val)\n",
    "y_pred = w0+X_val.dot(w)\n",
    "\n",
    "rmse(y_val , y_pred) # after adding all the categorical varibles into the training we got a huge huge error for model which is \n",
    "# very bad and we need to find a way to generalize "
   ]
  },
  {
   "cell_type": "code",
   "execution_count": 342,
   "id": "2b014b5c",
   "metadata": {},
   "outputs": [
    {
     "data": {
      "text/plain": [
       "(-5.614029125511567e+16,\n",
       " array([ 1.08192385e+00,  7.12487437e+01,  2.78586111e+01,  2.55350776e+01,\n",
       "         2.43376092e-03,  1.91039424e+01,  1.93130615e+04,  1.95318375e+04,\n",
       "         1.93135433e+04,  4.01427953e+00,  2.97535001e+01,  7.44471149e+01,\n",
       "        -1.41666390e+00,  3.25176054e+01,  2.47784758e+01, -4.06575223e+01,\n",
       "         1.78912572e+01,  2.24186785e+01, -2.28532500e+02,  2.29699708e+16,\n",
       "         2.29699708e+16,  2.29699708e+16,  2.29699708e+16,  2.29699708e+16,\n",
       "         3.31703205e+16,  3.31703205e+16,  3.31703205e+16,  3.31703205e+16,\n",
       "         1.14952764e+02,  1.26438967e+01,  1.59868429e+01,  6.74159825e+00,\n",
       "        -5.14606671e+01,  1.43790986e+02,  1.65281400e+02,  1.84856400e+02,\n",
       "        -4.53217807e-02,  4.98469968e-02,  1.82667651e-01,  3.36191666e-01,\n",
       "        -1.48080518e-01]))"
      ]
     },
     "execution_count": 342,
     "metadata": {},
     "output_type": "execute_result"
    }
   ],
   "source": [
    "w0,w"
   ]
  },
  {
   "cell_type": "markdown",
   "id": "d0b40152",
   "metadata": {},
   "source": [
    "# Regularization"
   ]
  },
  {
   "cell_type": "code",
   "execution_count": 343,
   "id": "152e0dab",
   "metadata": {},
   "outputs": [],
   "source": [
    "# one of the reason why we got huge error in the above step might be because due to the gram matrix does not have the inverse \n",
    "# to calculate and the reason is maybe we have duplicate columns in the dataset \n",
    "\n",
    "# lets take an example to find out\n",
    "\n",
    "X = [\n",
    "    [4,4,4],\n",
    "    [3,5,5],\n",
    "    [5,1,1],\n",
    "    [5,4,4],\n",
    "    [7,5,5],\n",
    "    [4,5,5]\n",
    "]\n",
    "\n",
    "X = np.array(X) "
   ]
  },
  {
   "cell_type": "code",
   "execution_count": 345,
   "id": "e414a787",
   "metadata": {},
   "outputs": [],
   "source": [
    "XTX = X.T.dot(X)"
   ]
  },
  {
   "cell_type": "code",
   "execution_count": 346,
   "id": "7b4615c5",
   "metadata": {},
   "outputs": [
    {
     "ename": "LinAlgError",
     "evalue": "Singular matrix",
     "output_type": "error",
     "traceback": [
      "\u001b[1;31m---------------------------------------------------------------------------\u001b[0m",
      "\u001b[1;31mLinAlgError\u001b[0m                               Traceback (most recent call last)",
      "\u001b[1;32m<ipython-input-346-d66087bf42f2>\u001b[0m in \u001b[0;36m<module>\u001b[1;34m\u001b[0m\n\u001b[1;32m----> 1\u001b[1;33m \u001b[0mnp\u001b[0m\u001b[1;33m.\u001b[0m\u001b[0mlinalg\u001b[0m\u001b[1;33m.\u001b[0m\u001b[0minv\u001b[0m\u001b[1;33m(\u001b[0m\u001b[0mXTX\u001b[0m\u001b[1;33m)\u001b[0m\u001b[1;33m\u001b[0m\u001b[1;33m\u001b[0m\u001b[0m\n\u001b[0m",
      "\u001b[1;32m<__array_function__ internals>\u001b[0m in \u001b[0;36minv\u001b[1;34m(*args, **kwargs)\u001b[0m\n",
      "\u001b[1;32mE:\\Anaconda3\\lib\\site-packages\\numpy\\linalg\\linalg.py\u001b[0m in \u001b[0;36minv\u001b[1;34m(a)\u001b[0m\n\u001b[0;32m    543\u001b[0m     \u001b[0msignature\u001b[0m \u001b[1;33m=\u001b[0m \u001b[1;34m'D->D'\u001b[0m \u001b[1;32mif\u001b[0m \u001b[0misComplexType\u001b[0m\u001b[1;33m(\u001b[0m\u001b[0mt\u001b[0m\u001b[1;33m)\u001b[0m \u001b[1;32melse\u001b[0m \u001b[1;34m'd->d'\u001b[0m\u001b[1;33m\u001b[0m\u001b[1;33m\u001b[0m\u001b[0m\n\u001b[0;32m    544\u001b[0m     \u001b[0mextobj\u001b[0m \u001b[1;33m=\u001b[0m \u001b[0mget_linalg_error_extobj\u001b[0m\u001b[1;33m(\u001b[0m\u001b[0m_raise_linalgerror_singular\u001b[0m\u001b[1;33m)\u001b[0m\u001b[1;33m\u001b[0m\u001b[1;33m\u001b[0m\u001b[0m\n\u001b[1;32m--> 545\u001b[1;33m     \u001b[0mainv\u001b[0m \u001b[1;33m=\u001b[0m \u001b[0m_umath_linalg\u001b[0m\u001b[1;33m.\u001b[0m\u001b[0minv\u001b[0m\u001b[1;33m(\u001b[0m\u001b[0ma\u001b[0m\u001b[1;33m,\u001b[0m \u001b[0msignature\u001b[0m\u001b[1;33m=\u001b[0m\u001b[0msignature\u001b[0m\u001b[1;33m,\u001b[0m \u001b[0mextobj\u001b[0m\u001b[1;33m=\u001b[0m\u001b[0mextobj\u001b[0m\u001b[1;33m)\u001b[0m\u001b[1;33m\u001b[0m\u001b[1;33m\u001b[0m\u001b[0m\n\u001b[0m\u001b[0;32m    546\u001b[0m     \u001b[1;32mreturn\u001b[0m \u001b[0mwrap\u001b[0m\u001b[1;33m(\u001b[0m\u001b[0mainv\u001b[0m\u001b[1;33m.\u001b[0m\u001b[0mastype\u001b[0m\u001b[1;33m(\u001b[0m\u001b[0mresult_t\u001b[0m\u001b[1;33m,\u001b[0m \u001b[0mcopy\u001b[0m\u001b[1;33m=\u001b[0m\u001b[1;32mFalse\u001b[0m\u001b[1;33m)\u001b[0m\u001b[1;33m)\u001b[0m\u001b[1;33m\u001b[0m\u001b[1;33m\u001b[0m\u001b[0m\n\u001b[0;32m    547\u001b[0m \u001b[1;33m\u001b[0m\u001b[0m\n",
      "\u001b[1;32mE:\\Anaconda3\\lib\\site-packages\\numpy\\linalg\\linalg.py\u001b[0m in \u001b[0;36m_raise_linalgerror_singular\u001b[1;34m(err, flag)\u001b[0m\n\u001b[0;32m     86\u001b[0m \u001b[1;33m\u001b[0m\u001b[0m\n\u001b[0;32m     87\u001b[0m \u001b[1;32mdef\u001b[0m \u001b[0m_raise_linalgerror_singular\u001b[0m\u001b[1;33m(\u001b[0m\u001b[0merr\u001b[0m\u001b[1;33m,\u001b[0m \u001b[0mflag\u001b[0m\u001b[1;33m)\u001b[0m\u001b[1;33m:\u001b[0m\u001b[1;33m\u001b[0m\u001b[1;33m\u001b[0m\u001b[0m\n\u001b[1;32m---> 88\u001b[1;33m     \u001b[1;32mraise\u001b[0m \u001b[0mLinAlgError\u001b[0m\u001b[1;33m(\u001b[0m\u001b[1;34m\"Singular matrix\"\u001b[0m\u001b[1;33m)\u001b[0m\u001b[1;33m\u001b[0m\u001b[1;33m\u001b[0m\u001b[0m\n\u001b[0m\u001b[0;32m     89\u001b[0m \u001b[1;33m\u001b[0m\u001b[0m\n\u001b[0;32m     90\u001b[0m \u001b[1;32mdef\u001b[0m \u001b[0m_raise_linalgerror_nonposdef\u001b[0m\u001b[1;33m(\u001b[0m\u001b[0merr\u001b[0m\u001b[1;33m,\u001b[0m \u001b[0mflag\u001b[0m\u001b[1;33m)\u001b[0m\u001b[1;33m:\u001b[0m\u001b[1;33m\u001b[0m\u001b[1;33m\u001b[0m\u001b[0m\n",
      "\u001b[1;31mLinAlgError\u001b[0m: Singular matrix"
     ]
    }
   ],
   "source": [
    "np.linalg.inv(XTX)"
   ]
  },
  {
   "cell_type": "code",
   "execution_count": 348,
   "id": "43319706",
   "metadata": {},
   "outputs": [
    {
     "data": {
      "text/plain": [
       "array([[4.        , 4.        , 4.        ],\n",
       "       [3.        , 5.        , 5.        ],\n",
       "       [5.        , 1.        , 1.        ],\n",
       "       [5.        , 4.        , 4.        ],\n",
       "       [7.        , 5.        , 5.        ],\n",
       "       [4.        , 5.        , 5.00000001]])"
      ]
     },
     "execution_count": 348,
     "metadata": {},
     "output_type": "execute_result"
    }
   ],
   "source": [
    "X = [\n",
    "    [4,4,4],\n",
    "    [3,5,5],\n",
    "    [5,1,1],\n",
    "    [5,4,4],\n",
    "    [7,5,5],\n",
    "    [4,5,5.00000001],\n",
    "]\n",
    "\n",
    "X = np.array(X) \n",
    "X "
   ]
  },
  {
   "cell_type": "code",
   "execution_count": 350,
   "id": "1517a14c",
   "metadata": {},
   "outputs": [
    {
     "data": {
      "text/plain": [
       "array([[140.        , 111.        , 111.00000004],\n",
       "       [111.        , 108.        , 108.00000005],\n",
       "       [111.00000004, 108.00000005, 108.0000001 ]])"
      ]
     },
     "execution_count": 350,
     "metadata": {},
     "output_type": "execute_result"
    }
   ],
   "source": [
    "XTX = X.T.dot(X)\n",
    "XTX"
   ]
  },
  {
   "cell_type": "code",
   "execution_count": 351,
   "id": "52e17170",
   "metadata": {},
   "outputs": [
    {
     "data": {
      "text/plain": [
       "array([[ 3.86409478e-02, -1.26839821e+05,  1.26839770e+05],\n",
       "       [-1.26839767e+05,  2.88638033e+14, -2.88638033e+14],\n",
       "       [ 1.26839727e+05, -2.88638033e+14,  2.88638033e+14]])"
      ]
     },
     "execution_count": 351,
     "metadata": {},
     "output_type": "execute_result"
    }
   ],
   "source": [
    "np.linalg.inv(XTX)"
   ]
  },
  {
   "cell_type": "markdown",
   "id": "54eca196",
   "metadata": {},
   "source": [
    "#### we add some value to the diagonal of the XTX matrix in cases like this to make the model more regularized "
   ]
  },
  {
   "cell_type": "code",
   "execution_count": 352,
   "id": "4b2e47bc",
   "metadata": {},
   "outputs": [],
   "source": [
    "def train_linear_regression_reg(X,y,r=0.001):\n",
    "    #add ones to the given input feature matrix X as the first column with rows X.shape[0abs]\n",
    "    ones = np.ones(X.shape[0])\n",
    "    #add the ones created above to be the first column in the input feature matrix \n",
    "    X = np.column_stack([ones , X])\n",
    "    # Take the dot product of Transpose of matrix X and X \n",
    "    XTX = X.T.dot(X)\n",
    "    # REGULARIZATION\n",
    "    XTX = XTX + r*np.eye(XTX.shape[0])\n",
    "    # Taking inverse of the XTX created above\n",
    "    XTX_inv = np.linalg.inv(XTX) \n",
    "    # multiplying inverse of XTX with Transpose of X and Y matrix \n",
    "    w_full = XTX_inv.dot(X.T).dot(y)\n",
    "    # The Bias or Y-intercept term is the first one so w_full[0]\n",
    "    w0 = w_full[0]\n",
    "    # the remaining are the respective weights for the columns in the feature matrix \n",
    "    w = w_full[1:]\n",
    "    \n",
    "    return w0 , w\n"
   ]
  },
  {
   "cell_type": "code",
   "execution_count": 364,
   "id": "df7ee9ed",
   "metadata": {},
   "outputs": [
    {
     "data": {
      "text/plain": [
       "0.46878344033169356"
      ]
     },
     "execution_count": 364,
     "metadata": {},
     "output_type": "execute_result"
    }
   ],
   "source": [
    "X_train = prepare_X(df_train)\n",
    "w0 , w = train_linear_regression_reg(X_train , y_train)\n",
    "\n",
    "X_val = prepare_X(df_val)\n",
    "y_pred = w0+X_val.dot(w)\n",
    "\n",
    "rmse(y_val , y_pred)"
   ]
  },
  {
   "cell_type": "code",
   "execution_count": 366,
   "id": "61736001",
   "metadata": {},
   "outputs": [
    {
     "name": "stdout",
     "output_type": "stream",
     "text": [
      "RMSE with r=0.0 is 425.62671321915104\n",
      "RMSE with r=-0.001 is 0.4687819555146199\n",
      "RMSE with r=0.001 is 0.46878344033169356\n",
      "RMSE with r=0.01 is 0.4687902538175748\n",
      "RMSE with r=10 is 0.48475404935611205\n",
      "RMSE with r=100 is 0.5909436580282609\n",
      "RMSE with r=300 is 0.7323115676409196\n",
      "RMSE with r=3000 is 1.0839111721038404\n",
      "RMSE with r=5000 is 1.1540746020816017\n"
     ]
    }
   ],
   "source": [
    "# The r value above affects the quality of the model\n",
    "# we need to find the optimal r value to find the best model weights to the problem\n",
    "\n",
    "for r in [0.0 , -0.001 , 0.001 , 0.01,10,100,300,3000,5000]:\n",
    "    X_train = prepare_X(df_train)\n",
    "    w0 , w = train_linear_regression_reg(X_train , y_train, r = r)\n",
    "\n",
    "    X_val = prepare_X(df_val)\n",
    "    y_pred = w0+X_val.dot(w)\n",
    "\n",
    "    print(f\"RMSE with r={r} is {rmse(y_val , y_pred)}\")"
   ]
  },
  {
   "cell_type": "markdown",
   "id": "588d711b",
   "metadata": {},
   "source": [
    "# Tuning the model "
   ]
  },
  {
   "cell_type": "code",
   "execution_count": 369,
   "id": "eb1aa59a",
   "metadata": {},
   "outputs": [
    {
     "name": "stdout",
     "output_type": "stream",
     "text": [
      "RMSE with r=0.0 and -5.614029125511567e+16 is 425.62671321915104\n",
      "RMSE with r=1e-05 and 7.421544305947021 is 0.468782711630024\n",
      "RMSE with r=0.0001 and 6.312780707053289 is 0.4687827717802419\n",
      "RMSE with r=0.001 and 6.268720848776871 is 0.46878344033169356\n",
      "RMSE with r=0.1 and 6.162771762816413 is 0.4688687995173272\n",
      "RMSE with r=1 and 5.574894387709764 is 0.47004650451254576\n",
      "RMSE with r=10 and 4.245756410207984 is 0.48475404935611205\n"
     ]
    }
   ],
   "source": [
    "for r in [0.0 , 0.00001 , 0.0001 , 0.001 , 0.1 ,1 ,10]:\n",
    "    X_train = prepare_X(df_train)\n",
    "    w0 , w = train_linear_regression_reg(X_train , y_train, r = r)\n",
    "\n",
    "    X_val = prepare_X(df_val)\n",
    "    y_pred = w0+X_val.dot(w)\n",
    "\n",
    "    print(f\"RMSE with r={r} and {w0} is {rmse(y_val , y_pred)}\") # the more the w0 score the worst the model is here "
   ]
  },
  {
   "cell_type": "code",
   "execution_count": 370,
   "id": "932425b8",
   "metadata": {},
   "outputs": [
    {
     "data": {
      "text/plain": [
       "0.46878344033169356"
      ]
     },
     "execution_count": 370,
     "metadata": {},
     "output_type": "execute_result"
    }
   ],
   "source": [
    "# we feel r=0.001 is the best regularization value for this model so we train linear regression with r =0.001 \n",
    "X_train = prepare_X(df_train)\n",
    "w0 , w = train_linear_regression_reg(X_train , y_train, r =0.001)\n",
    "\n",
    "X_val = prepare_X(df_val)\n",
    "y_pred = w0+X_val.dot(w)\n",
    "\n",
    "score = rmse(y_val , y_pred)\n",
    "score "
   ]
  },
  {
   "cell_type": "markdown",
   "id": "c2e88b9c",
   "metadata": {},
   "source": [
    "# Using the model"
   ]
  },
  {
   "cell_type": "code",
   "execution_count": 371,
   "id": "3a7dc921",
   "metadata": {},
   "outputs": [],
   "source": [
    "# Till now we are training the model with train dataset \n",
    "# and validating the model performance using the validation dataset\n",
    "# now we will combine the both training and validation dataset and then use the model to test on testing dataset \n",
    "\n",
    "df_full_train = pd.concat([df_train ,df_val])"
   ]
  },
  {
   "cell_type": "code",
   "execution_count": 373,
   "id": "a2da0ad6",
   "metadata": {},
   "outputs": [
    {
     "data": {
      "text/plain": [
       "(9532, 18)"
      ]
     },
     "execution_count": 373,
     "metadata": {},
     "output_type": "execute_result"
    }
   ],
   "source": [
    "df_full_train.shape"
   ]
  },
  {
   "cell_type": "code",
   "execution_count": 374,
   "id": "49cf6239",
   "metadata": {},
   "outputs": [
    {
     "data": {
      "text/html": [
       "<div>\n",
       "<style scoped>\n",
       "    .dataframe tbody tr th:only-of-type {\n",
       "        vertical-align: middle;\n",
       "    }\n",
       "\n",
       "    .dataframe tbody tr th {\n",
       "        vertical-align: top;\n",
       "    }\n",
       "\n",
       "    .dataframe thead th {\n",
       "        text-align: right;\n",
       "    }\n",
       "</style>\n",
       "<table border=\"1\" class=\"dataframe\">\n",
       "  <thead>\n",
       "    <tr style=\"text-align: right;\">\n",
       "      <th></th>\n",
       "      <th>make</th>\n",
       "      <th>model</th>\n",
       "      <th>year</th>\n",
       "      <th>engine_fuel_type</th>\n",
       "      <th>engine_hp</th>\n",
       "      <th>engine_cylinders</th>\n",
       "      <th>transmission_type</th>\n",
       "      <th>driven_wheels</th>\n",
       "      <th>number_of_doors</th>\n",
       "      <th>market_category</th>\n",
       "      <th>vehicle_size</th>\n",
       "      <th>vehicle_style</th>\n",
       "      <th>highway_mpg</th>\n",
       "      <th>city_mpg</th>\n",
       "      <th>popularity</th>\n",
       "      <th>num_doors_2</th>\n",
       "      <th>num_doors_3</th>\n",
       "      <th>num_doors_4</th>\n",
       "    </tr>\n",
       "  </thead>\n",
       "  <tbody>\n",
       "    <tr>\n",
       "      <th>0</th>\n",
       "      <td>cadillac</td>\n",
       "      <td>escalade</td>\n",
       "      <td>2015</td>\n",
       "      <td>flex-fuel_(unleaded/e85)</td>\n",
       "      <td>420.0</td>\n",
       "      <td>8.0</td>\n",
       "      <td>automatic</td>\n",
       "      <td>four_wheel_drive</td>\n",
       "      <td>4.0</td>\n",
       "      <td>flex_fuel,luxury,performance</td>\n",
       "      <td>large</td>\n",
       "      <td>4dr_suv</td>\n",
       "      <td>21</td>\n",
       "      <td>15</td>\n",
       "      <td>1624</td>\n",
       "      <td>0.0</td>\n",
       "      <td>0.0</td>\n",
       "      <td>1.0</td>\n",
       "    </tr>\n",
       "    <tr>\n",
       "      <th>1</th>\n",
       "      <td>volkswagen</td>\n",
       "      <td>beetle</td>\n",
       "      <td>2015</td>\n",
       "      <td>premium_unleaded_(recommended)</td>\n",
       "      <td>210.0</td>\n",
       "      <td>4.0</td>\n",
       "      <td>manual</td>\n",
       "      <td>front_wheel_drive</td>\n",
       "      <td>2.0</td>\n",
       "      <td>hatchback,performance</td>\n",
       "      <td>compact</td>\n",
       "      <td>2dr_hatchback</td>\n",
       "      <td>31</td>\n",
       "      <td>23</td>\n",
       "      <td>873</td>\n",
       "      <td>1.0</td>\n",
       "      <td>0.0</td>\n",
       "      <td>0.0</td>\n",
       "    </tr>\n",
       "    <tr>\n",
       "      <th>2</th>\n",
       "      <td>aston_martin</td>\n",
       "      <td>v8_vantage</td>\n",
       "      <td>2016</td>\n",
       "      <td>premium_unleaded_(required)</td>\n",
       "      <td>430.0</td>\n",
       "      <td>8.0</td>\n",
       "      <td>automated_manual</td>\n",
       "      <td>rear_wheel_drive</td>\n",
       "      <td>2.0</td>\n",
       "      <td>exotic,high-performance</td>\n",
       "      <td>compact</td>\n",
       "      <td>convertible</td>\n",
       "      <td>21</td>\n",
       "      <td>14</td>\n",
       "      <td>259</td>\n",
       "      <td>1.0</td>\n",
       "      <td>0.0</td>\n",
       "      <td>0.0</td>\n",
       "    </tr>\n",
       "    <tr>\n",
       "      <th>3</th>\n",
       "      <td>lexus</td>\n",
       "      <td>rx_450h</td>\n",
       "      <td>2016</td>\n",
       "      <td>premium_unleaded_(recommended)</td>\n",
       "      <td>308.0</td>\n",
       "      <td>6.0</td>\n",
       "      <td>automatic</td>\n",
       "      <td>all_wheel_drive</td>\n",
       "      <td>4.0</td>\n",
       "      <td>crossover,luxury,hybrid</td>\n",
       "      <td>midsize</td>\n",
       "      <td>4dr_suv</td>\n",
       "      <td>28</td>\n",
       "      <td>30</td>\n",
       "      <td>454</td>\n",
       "      <td>0.0</td>\n",
       "      <td>0.0</td>\n",
       "      <td>1.0</td>\n",
       "    </tr>\n",
       "    <tr>\n",
       "      <th>4</th>\n",
       "      <td>bmw</td>\n",
       "      <td>6_series</td>\n",
       "      <td>2015</td>\n",
       "      <td>premium_unleaded_(required)</td>\n",
       "      <td>315.0</td>\n",
       "      <td>6.0</td>\n",
       "      <td>automatic</td>\n",
       "      <td>rear_wheel_drive</td>\n",
       "      <td>2.0</td>\n",
       "      <td>luxury,performance</td>\n",
       "      <td>midsize</td>\n",
       "      <td>convertible</td>\n",
       "      <td>31</td>\n",
       "      <td>20</td>\n",
       "      <td>3916</td>\n",
       "      <td>1.0</td>\n",
       "      <td>0.0</td>\n",
       "      <td>0.0</td>\n",
       "    </tr>\n",
       "    <tr>\n",
       "      <th>...</th>\n",
       "      <td>...</td>\n",
       "      <td>...</td>\n",
       "      <td>...</td>\n",
       "      <td>...</td>\n",
       "      <td>...</td>\n",
       "      <td>...</td>\n",
       "      <td>...</td>\n",
       "      <td>...</td>\n",
       "      <td>...</td>\n",
       "      <td>...</td>\n",
       "      <td>...</td>\n",
       "      <td>...</td>\n",
       "      <td>...</td>\n",
       "      <td>...</td>\n",
       "      <td>...</td>\n",
       "      <td>...</td>\n",
       "      <td>...</td>\n",
       "      <td>...</td>\n",
       "    </tr>\n",
       "    <tr>\n",
       "      <th>9527</th>\n",
       "      <td>chevrolet</td>\n",
       "      <td>impala_limited</td>\n",
       "      <td>2016</td>\n",
       "      <td>flex-fuel_(unleaded/e85)</td>\n",
       "      <td>300.0</td>\n",
       "      <td>6.0</td>\n",
       "      <td>automatic</td>\n",
       "      <td>front_wheel_drive</td>\n",
       "      <td>4.0</td>\n",
       "      <td>flex_fuel</td>\n",
       "      <td>large</td>\n",
       "      <td>sedan</td>\n",
       "      <td>30</td>\n",
       "      <td>18</td>\n",
       "      <td>1385</td>\n",
       "      <td>NaN</td>\n",
       "      <td>NaN</td>\n",
       "      <td>NaN</td>\n",
       "    </tr>\n",
       "    <tr>\n",
       "      <th>9528</th>\n",
       "      <td>bmw</td>\n",
       "      <td>4_series</td>\n",
       "      <td>2017</td>\n",
       "      <td>premium_unleaded_(recommended)</td>\n",
       "      <td>320.0</td>\n",
       "      <td>6.0</td>\n",
       "      <td>automatic</td>\n",
       "      <td>rear_wheel_drive</td>\n",
       "      <td>2.0</td>\n",
       "      <td>luxury,performance</td>\n",
       "      <td>midsize</td>\n",
       "      <td>convertible</td>\n",
       "      <td>29</td>\n",
       "      <td>21</td>\n",
       "      <td>3916</td>\n",
       "      <td>NaN</td>\n",
       "      <td>NaN</td>\n",
       "      <td>NaN</td>\n",
       "    </tr>\n",
       "    <tr>\n",
       "      <th>9529</th>\n",
       "      <td>mitsubishi</td>\n",
       "      <td>montero_sport</td>\n",
       "      <td>2003</td>\n",
       "      <td>regular_unleaded</td>\n",
       "      <td>165.0</td>\n",
       "      <td>6.0</td>\n",
       "      <td>automatic</td>\n",
       "      <td>rear_wheel_drive</td>\n",
       "      <td>4.0</td>\n",
       "      <td>NaN</td>\n",
       "      <td>midsize</td>\n",
       "      <td>4dr_suv</td>\n",
       "      <td>21</td>\n",
       "      <td>16</td>\n",
       "      <td>436</td>\n",
       "      <td>NaN</td>\n",
       "      <td>NaN</td>\n",
       "      <td>NaN</td>\n",
       "    </tr>\n",
       "    <tr>\n",
       "      <th>9530</th>\n",
       "      <td>volkswagen</td>\n",
       "      <td>beetle_convertible</td>\n",
       "      <td>2016</td>\n",
       "      <td>regular_unleaded</td>\n",
       "      <td>170.0</td>\n",
       "      <td>4.0</td>\n",
       "      <td>automatic</td>\n",
       "      <td>front_wheel_drive</td>\n",
       "      <td>2.0</td>\n",
       "      <td>NaN</td>\n",
       "      <td>compact</td>\n",
       "      <td>convertible</td>\n",
       "      <td>34</td>\n",
       "      <td>25</td>\n",
       "      <td>873</td>\n",
       "      <td>NaN</td>\n",
       "      <td>NaN</td>\n",
       "      <td>NaN</td>\n",
       "    </tr>\n",
       "    <tr>\n",
       "      <th>9531</th>\n",
       "      <td>lexus</td>\n",
       "      <td>ct_200h</td>\n",
       "      <td>2016</td>\n",
       "      <td>regular_unleaded</td>\n",
       "      <td>134.0</td>\n",
       "      <td>4.0</td>\n",
       "      <td>automatic</td>\n",
       "      <td>front_wheel_drive</td>\n",
       "      <td>4.0</td>\n",
       "      <td>hatchback,luxury,hybrid</td>\n",
       "      <td>compact</td>\n",
       "      <td>4dr_hatchback</td>\n",
       "      <td>40</td>\n",
       "      <td>43</td>\n",
       "      <td>454</td>\n",
       "      <td>NaN</td>\n",
       "      <td>NaN</td>\n",
       "      <td>NaN</td>\n",
       "    </tr>\n",
       "  </tbody>\n",
       "</table>\n",
       "<p>9532 rows × 18 columns</p>\n",
       "</div>"
      ],
      "text/plain": [
       "              make               model  year                engine_fuel_type  \\\n",
       "0         cadillac            escalade  2015        flex-fuel_(unleaded/e85)   \n",
       "1       volkswagen              beetle  2015  premium_unleaded_(recommended)   \n",
       "2     aston_martin          v8_vantage  2016     premium_unleaded_(required)   \n",
       "3            lexus             rx_450h  2016  premium_unleaded_(recommended)   \n",
       "4              bmw            6_series  2015     premium_unleaded_(required)   \n",
       "...            ...                 ...   ...                             ...   \n",
       "9527     chevrolet      impala_limited  2016        flex-fuel_(unleaded/e85)   \n",
       "9528           bmw            4_series  2017  premium_unleaded_(recommended)   \n",
       "9529    mitsubishi       montero_sport  2003                regular_unleaded   \n",
       "9530    volkswagen  beetle_convertible  2016                regular_unleaded   \n",
       "9531         lexus             ct_200h  2016                regular_unleaded   \n",
       "\n",
       "      engine_hp  engine_cylinders transmission_type      driven_wheels  \\\n",
       "0         420.0               8.0         automatic   four_wheel_drive   \n",
       "1         210.0               4.0            manual  front_wheel_drive   \n",
       "2         430.0               8.0  automated_manual   rear_wheel_drive   \n",
       "3         308.0               6.0         automatic    all_wheel_drive   \n",
       "4         315.0               6.0         automatic   rear_wheel_drive   \n",
       "...         ...               ...               ...                ...   \n",
       "9527      300.0               6.0         automatic  front_wheel_drive   \n",
       "9528      320.0               6.0         automatic   rear_wheel_drive   \n",
       "9529      165.0               6.0         automatic   rear_wheel_drive   \n",
       "9530      170.0               4.0         automatic  front_wheel_drive   \n",
       "9531      134.0               4.0         automatic  front_wheel_drive   \n",
       "\n",
       "      number_of_doors               market_category vehicle_size  \\\n",
       "0                 4.0  flex_fuel,luxury,performance        large   \n",
       "1                 2.0         hatchback,performance      compact   \n",
       "2                 2.0       exotic,high-performance      compact   \n",
       "3                 4.0       crossover,luxury,hybrid      midsize   \n",
       "4                 2.0            luxury,performance      midsize   \n",
       "...               ...                           ...          ...   \n",
       "9527              4.0                     flex_fuel        large   \n",
       "9528              2.0            luxury,performance      midsize   \n",
       "9529              4.0                           NaN      midsize   \n",
       "9530              2.0                           NaN      compact   \n",
       "9531              4.0       hatchback,luxury,hybrid      compact   \n",
       "\n",
       "      vehicle_style  highway_mpg  city_mpg  popularity  num_doors_2  \\\n",
       "0           4dr_suv           21        15        1624          0.0   \n",
       "1     2dr_hatchback           31        23         873          1.0   \n",
       "2       convertible           21        14         259          1.0   \n",
       "3           4dr_suv           28        30         454          0.0   \n",
       "4       convertible           31        20        3916          1.0   \n",
       "...             ...          ...       ...         ...          ...   \n",
       "9527          sedan           30        18        1385          NaN   \n",
       "9528    convertible           29        21        3916          NaN   \n",
       "9529        4dr_suv           21        16         436          NaN   \n",
       "9530    convertible           34        25         873          NaN   \n",
       "9531  4dr_hatchback           40        43         454          NaN   \n",
       "\n",
       "      num_doors_3  num_doors_4  \n",
       "0             0.0          1.0  \n",
       "1             0.0          0.0  \n",
       "2             0.0          0.0  \n",
       "3             0.0          1.0  \n",
       "4             0.0          0.0  \n",
       "...           ...          ...  \n",
       "9527          NaN          NaN  \n",
       "9528          NaN          NaN  \n",
       "9529          NaN          NaN  \n",
       "9530          NaN          NaN  \n",
       "9531          NaN          NaN  \n",
       "\n",
       "[9532 rows x 18 columns]"
      ]
     },
     "execution_count": 374,
     "metadata": {},
     "output_type": "execute_result"
    }
   ],
   "source": [
    "df_full_train.reset_index(drop=True)"
   ]
  },
  {
   "cell_type": "code",
   "execution_count": 375,
   "id": "0a9aec30",
   "metadata": {},
   "outputs": [],
   "source": [
    "X_full_train = prepare_X(df_full_train)"
   ]
  },
  {
   "cell_type": "code",
   "execution_count": 376,
   "id": "78ee17b2",
   "metadata": {},
   "outputs": [
    {
     "data": {
      "text/plain": [
       "array([[420.,   8.,  21., ...,   0.,   0.,   0.],\n",
       "       [210.,   4.,  31., ...,   0.,   0.,   0.],\n",
       "       [430.,   8.,  21., ...,   0.,   1.,   0.],\n",
       "       ...,\n",
       "       [165.,   6.,  21., ...,   0.,   0.,   0.],\n",
       "       [170.,   4.,  34., ...,   0.,   1.,   0.],\n",
       "       [134.,   4.,  40., ...,   0.,   0.,   1.]])"
      ]
     },
     "execution_count": 376,
     "metadata": {},
     "output_type": "execute_result"
    }
   ],
   "source": [
    "X_full_train"
   ]
  },
  {
   "cell_type": "code",
   "execution_count": 378,
   "id": "63bdc55e",
   "metadata": {},
   "outputs": [],
   "source": [
    "y_full_train= np.concatenate([y_train , y_val])"
   ]
  },
  {
   "cell_type": "code",
   "execution_count": 379,
   "id": "5d074a91",
   "metadata": {},
   "outputs": [],
   "source": [
    "w0 , w = train_linear_regression_reg(X_full_train , y_full_train, r =0.001)"
   ]
  },
  {
   "cell_type": "code",
   "execution_count": 380,
   "id": "85165b79",
   "metadata": {},
   "outputs": [
    {
     "data": {
      "text/plain": [
       "(6.319427376979941,\n",
       " array([ 1.55367248e-03,  1.17531868e-01, -6.80828554e-03, -7.48629632e-03,\n",
       "        -5.35821011e-05, -9.66365243e-02, -6.87061982e-01, -8.25555152e-01,\n",
       "        -5.51062715e-01, -4.17736520e-02,  1.81822712e-01,  1.59218097e-03,\n",
       "        -9.28323241e-02, -1.17362441e-01, -4.34472725e-01,  1.15323773e-01,\n",
       "        -2.91801422e-01, -5.12843599e-01, -4.23340124e-02,  1.02382198e+00,\n",
       "         8.44544613e-01,  1.10188547e+00,  2.87970277e+00,  4.66147118e-01,\n",
       "         1.63661373e+00,  1.52528062e+00,  1.61921126e+00,  1.53849208e+00,\n",
       "        -7.20040265e-02,  5.48134979e-02, -4.57828693e-02, -1.47060410e-02,\n",
       "        -2.72825376e-02,  2.18690866e+00,  2.06639834e+00,  2.06569178e+00,\n",
       "        -4.08231643e-02,  4.39149529e-02,  1.77444269e-01,  3.14759068e-01,\n",
       "        -1.39181937e-01]))"
      ]
     },
     "execution_count": 380,
     "metadata": {},
     "output_type": "execute_result"
    }
   ],
   "source": [
    "w0,w"
   ]
  },
  {
   "cell_type": "code",
   "execution_count": 381,
   "id": "203e1508",
   "metadata": {},
   "outputs": [
    {
     "data": {
      "text/plain": [
       "0.4524074303560923"
      ]
     },
     "execution_count": 381,
     "metadata": {},
     "output_type": "execute_result"
    }
   ],
   "source": [
    "X_test = prepare_X(df_test)\n",
    "y_pred = w0+X_test.dot(w)\n",
    "\n",
    "score = rmse(y_test , y_pred)\n",
    "score "
   ]
  },
  {
   "cell_type": "code",
   "execution_count": 382,
   "id": "23010b48",
   "metadata": {},
   "outputs": [
    {
     "data": {
      "text/plain": [
       "{'make': 'hyundai',\n",
       " 'model': 'elantra_touring',\n",
       " 'year': 2012,\n",
       " 'engine_fuel_type': 'regular_unleaded',\n",
       " 'engine_hp': 138.0,\n",
       " 'engine_cylinders': 4.0,\n",
       " 'transmission_type': 'automatic',\n",
       " 'driven_wheels': 'front_wheel_drive',\n",
       " 'number_of_doors': 4.0,\n",
       " 'market_category': 'hatchback',\n",
       " 'vehicle_size': 'compact',\n",
       " 'vehicle_style': '4dr_hatchback',\n",
       " 'highway_mpg': 30,\n",
       " 'city_mpg': 23,\n",
       " 'popularity': 1439}"
      ]
     },
     "execution_count": 382,
     "metadata": {},
     "output_type": "execute_result"
    }
   ],
   "source": [
    "car = df_test.iloc[20].to_dict()\n",
    "car"
   ]
  },
  {
   "cell_type": "code",
   "execution_count": 385,
   "id": "acd4a2c9",
   "metadata": {},
   "outputs": [
    {
     "data": {
      "text/html": [
       "<div>\n",
       "<style scoped>\n",
       "    .dataframe tbody tr th:only-of-type {\n",
       "        vertical-align: middle;\n",
       "    }\n",
       "\n",
       "    .dataframe tbody tr th {\n",
       "        vertical-align: top;\n",
       "    }\n",
       "\n",
       "    .dataframe thead th {\n",
       "        text-align: right;\n",
       "    }\n",
       "</style>\n",
       "<table border=\"1\" class=\"dataframe\">\n",
       "  <thead>\n",
       "    <tr style=\"text-align: right;\">\n",
       "      <th></th>\n",
       "      <th>make</th>\n",
       "      <th>model</th>\n",
       "      <th>year</th>\n",
       "      <th>engine_fuel_type</th>\n",
       "      <th>engine_hp</th>\n",
       "      <th>engine_cylinders</th>\n",
       "      <th>transmission_type</th>\n",
       "      <th>driven_wheels</th>\n",
       "      <th>number_of_doors</th>\n",
       "      <th>market_category</th>\n",
       "      <th>vehicle_size</th>\n",
       "      <th>vehicle_style</th>\n",
       "      <th>highway_mpg</th>\n",
       "      <th>city_mpg</th>\n",
       "      <th>popularity</th>\n",
       "    </tr>\n",
       "  </thead>\n",
       "  <tbody>\n",
       "    <tr>\n",
       "      <th>0</th>\n",
       "      <td>hyundai</td>\n",
       "      <td>elantra_touring</td>\n",
       "      <td>2012</td>\n",
       "      <td>regular_unleaded</td>\n",
       "      <td>138.0</td>\n",
       "      <td>4.0</td>\n",
       "      <td>automatic</td>\n",
       "      <td>front_wheel_drive</td>\n",
       "      <td>4.0</td>\n",
       "      <td>hatchback</td>\n",
       "      <td>compact</td>\n",
       "      <td>4dr_hatchback</td>\n",
       "      <td>30</td>\n",
       "      <td>23</td>\n",
       "      <td>1439</td>\n",
       "    </tr>\n",
       "  </tbody>\n",
       "</table>\n",
       "</div>"
      ],
      "text/plain": [
       "      make            model  year  engine_fuel_type  engine_hp  \\\n",
       "0  hyundai  elantra_touring  2012  regular_unleaded      138.0   \n",
       "\n",
       "   engine_cylinders transmission_type      driven_wheels  number_of_doors  \\\n",
       "0               4.0         automatic  front_wheel_drive              4.0   \n",
       "\n",
       "  market_category vehicle_size  vehicle_style  highway_mpg  city_mpg  \\\n",
       "0       hatchback      compact  4dr_hatchback           30        23   \n",
       "\n",
       "   popularity  \n",
       "0        1439  "
      ]
     },
     "execution_count": 385,
     "metadata": {},
     "output_type": "execute_result"
    }
   ],
   "source": [
    "df_small = pd.DataFrame([car]) \n",
    "df_small"
   ]
  },
  {
   "cell_type": "code",
   "execution_count": 388,
   "id": "caf42b4a",
   "metadata": {},
   "outputs": [
    {
     "data": {
      "text/plain": [
       "array([9.76258545])"
      ]
     },
     "execution_count": 388,
     "metadata": {},
     "output_type": "execute_result"
    }
   ],
   "source": [
    "# we have to give the prepare_X function only the  dataframe because we have written it that way and hence that's why \n",
    "# we are performing the above conversion of dict to dataframe for testing the sample \n",
    "\n",
    "X_small = prepare_X(df_small)\n",
    "y_pred = w0+X_small.dot(w) \n",
    "y_pred # the value that comes out of this is the logarithm of the original value so if we take exponent we get original value"
   ]
  },
  {
   "cell_type": "code",
   "execution_count": 389,
   "id": "8fda9735",
   "metadata": {},
   "outputs": [
    {
     "data": {
      "text/plain": [
       "array([17370.4868072])"
      ]
     },
     "execution_count": 389,
     "metadata": {},
     "output_type": "execute_result"
    }
   ],
   "source": [
    "np.expm1(y_pred)"
   ]
  },
  {
   "cell_type": "code",
   "execution_count": 391,
   "id": "eeac7e0a",
   "metadata": {},
   "outputs": [
    {
     "data": {
      "text/plain": [
       "9.918179101279117"
      ]
     },
     "execution_count": 391,
     "metadata": {},
     "output_type": "execute_result"
    }
   ],
   "source": [
    "# actual price of the sample we test\n",
    "y_test[20] \n",
    "\n",
    "# we got 9.91 instead of 9.76 which is very good "
   ]
  },
  {
   "cell_type": "code",
   "execution_count": 393,
   "id": "3f064141",
   "metadata": {},
   "outputs": [
    {
     "data": {
      "text/plain": [
       "20294.99999999998"
      ]
     },
     "execution_count": 393,
     "metadata": {},
     "output_type": "execute_result"
    }
   ],
   "source": [
    "np.expm1(y_test[20]) # original price "
   ]
  },
  {
   "cell_type": "code",
   "execution_count": 394,
   "id": "f6eaaa86",
   "metadata": {},
   "outputs": [
    {
     "data": {
      "text/plain": [
       "array([17370.4868072])"
      ]
     },
     "execution_count": 394,
     "metadata": {},
     "output_type": "execute_result"
    }
   ],
   "source": [
    "np.expm1(y_pred) # predicted price  "
   ]
  },
  {
   "cell_type": "code",
   "execution_count": null,
   "id": "3853fbc6",
   "metadata": {},
   "outputs": [],
   "source": []
  }
 ],
 "metadata": {
  "kernelspec": {
   "display_name": "Python 3",
   "language": "python",
   "name": "python3"
  },
  "language_info": {
   "codemirror_mode": {
    "name": "ipython",
    "version": 3
   },
   "file_extension": ".py",
   "mimetype": "text/x-python",
   "name": "python",
   "nbconvert_exporter": "python",
   "pygments_lexer": "ipython3",
   "version": "3.8.8"
  }
 },
 "nbformat": 4,
 "nbformat_minor": 5
}
